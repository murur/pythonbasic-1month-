{
  "nbformat": 4,
  "nbformat_minor": 0,
  "metadata": {
    "colab": {
      "name": "pythonday3.ipynb",
      "provenance": [],
      "collapsed_sections": [],
      "authorship_tag": "ABX9TyOszLrSvITYXlMIL3d6reEO",
      "include_colab_link": true
    },
    "kernelspec": {
      "name": "python3",
      "display_name": "Python 3"
    },
    "language_info": {
      "name": "python"
    }
  },
  "cells": [
    {
      "cell_type": "markdown",
      "metadata": {
        "id": "view-in-github",
        "colab_type": "text"
      },
      "source": [
        "<a href=\"https://colab.research.google.com/github/murur/pythonbasic-1month-/blob/main/pythonday3.ipynb\" target=\"_parent\"><img src=\"https://colab.research.google.com/assets/colab-badge.svg\" alt=\"Open In Colab\"/></a>"
      ]
    },
    {
      "cell_type": "code",
      "execution_count": null,
      "metadata": {
        "colab": {
          "base_uri": "https://localhost:8080/"
        },
        "id": "hOx7rDK1IohF",
        "outputId": "d295f271-e8b0-40f9-9a79-5d9268d0c7ca"
      },
      "outputs": [
        {
          "output_type": "stream",
          "name": "stdout",
          "text": [
            "454252\n",
            "당신이 입력한 수는 454252입니다.\n"
          ]
        }
      ],
      "source": [
        "# 62p 표준입력\n",
        "# input() 함수는 키보드로 입력을 받을때 사용된다.\n",
        "\n",
        "n = input()\n",
        "print(f'당신이 입력한 수는 {n}입니다.')"
      ]
    },
    {
      "cell_type": "code",
      "source": [
        "name = input(\"이름을 입력하세요 >>>\")\n",
        "age = input(\"나이를 입력하세요 >>>\")\n",
        "\n",
        "print(f'입력된 이름은 {name}이고 나이는 {age}입니다.')"
      ],
      "metadata": {
        "colab": {
          "base_uri": "https://localhost:8080/"
        },
        "id": "JWcDJuDjJVzA",
        "outputId": "087c1865-6749-4975-d889-7fd289414ed0"
      },
      "execution_count": null,
      "outputs": [
        {
          "output_type": "stream",
          "name": "stdout",
          "text": [
            "이름을 입력하세요 >>>lure\n",
            "나이를 입력하세요 >>>23\n",
            "입력된 이름은 lure이고 나이는 23입니다.\n"
          ]
        }
      ]
    },
    {
      "cell_type": "code",
      "source": [
        "# 좋아하는 과일은?\n",
        "# 당신이 좋아하는 과일은 ... 입니다\n",
        "\n",
        "fruit = input(\"과일을 입력하세요 >>>\")\n",
        "print(f'당신이 좋아하는 과일은 {fruit}입니다.')"
      ],
      "metadata": {
        "colab": {
          "base_uri": "https://localhost:8080/"
        },
        "id": "G5xuLHbuJ6na",
        "outputId": "d131c13c-bbd6-45bb-c5de-7c436ab92c4b"
      },
      "execution_count": null,
      "outputs": [
        {
          "output_type": "stream",
          "name": "stdout",
          "text": [
            "과일을 입력하세요 >>>수박\n",
            "당신이 좋아하는 과일은 수박입니다.\n"
          ]
        }
      ]
    },
    {
      "cell_type": "code",
      "source": [
        "n = input(\"정수를 입력하세요 >>>\")\n",
        "print(type(n))"
      ],
      "metadata": {
        "colab": {
          "base_uri": "https://localhost:8080/"
        },
        "id": "5E4d3Qj6KwI7",
        "outputId": "8f077c04-b749-482c-b13b-da138b66490c"
      },
      "execution_count": null,
      "outputs": [
        {
          "output_type": "stream",
          "name": "stdout",
          "text": [
            "정수를 입력하세요 >>>9\n",
            "<class 'str'>\n"
          ]
        }
      ]
    },
    {
      "cell_type": "code",
      "source": [
        "price = 5000\n",
        "n = input('할부 개월 입력 >>>')\n",
        "print(f'매달 내는 돈은 {price / n}원 입니다.')"
      ],
      "metadata": {
        "colab": {
          "base_uri": "https://localhost:8080/",
          "height": 226
        },
        "id": "KntSVyiXMPNd",
        "outputId": "72290884-e391-470a-b932-f2ec44bc9614"
      },
      "execution_count": null,
      "outputs": [
        {
          "name": "stdout",
          "output_type": "stream",
          "text": [
            "할부 개월 입력 >>>12\n"
          ]
        },
        {
          "output_type": "error",
          "ename": "TypeError",
          "evalue": "ignored",
          "traceback": [
            "\u001b[0;31m---------------------------------------------------------------------------\u001b[0m",
            "\u001b[0;31mTypeError\u001b[0m                                 Traceback (most recent call last)",
            "\u001b[0;32m<ipython-input-12-443d77a73464>\u001b[0m in \u001b[0;36m<module>\u001b[0;34m()\u001b[0m\n\u001b[1;32m      1\u001b[0m \u001b[0mprice\u001b[0m \u001b[0;34m=\u001b[0m \u001b[0;36m5000\u001b[0m\u001b[0;34m\u001b[0m\u001b[0;34m\u001b[0m\u001b[0m\n\u001b[1;32m      2\u001b[0m \u001b[0mn\u001b[0m \u001b[0;34m=\u001b[0m \u001b[0minput\u001b[0m\u001b[0;34m(\u001b[0m\u001b[0;34m'할부 개월 입력 >>>'\u001b[0m\u001b[0;34m)\u001b[0m\u001b[0;34m\u001b[0m\u001b[0;34m\u001b[0m\u001b[0m\n\u001b[0;32m----> 3\u001b[0;31m \u001b[0mprint\u001b[0m\u001b[0;34m(\u001b[0m\u001b[0;34mf'매달 내는 돈은 {price / n}원 입니다.'\u001b[0m\u001b[0;34m)\u001b[0m\u001b[0;34m\u001b[0m\u001b[0;34m\u001b[0m\u001b[0m\n\u001b[0m",
            "\u001b[0;31mTypeError\u001b[0m: unsupported operand type(s) for /: 'int' and 'str'"
          ]
        }
      ]
    },
    {
      "cell_type": "code",
      "source": [
        "price = 5000\n",
        "n = int(input('할부 개월 입력 >>>'))\n",
        "print(f'매달 내는 돈은 {price / n}원 입니다.')"
      ],
      "metadata": {
        "id": "MBamxcTxMTHl",
        "outputId": "3507c044-ae45-4985-eb3f-f8de3c50c10b",
        "colab": {
          "base_uri": "https://localhost:8080/"
        }
      },
      "execution_count": null,
      "outputs": [
        {
          "output_type": "stream",
          "name": "stdout",
          "text": [
            "할부 개월 입력 >>>１２\n",
            "매달 내는 돈은 416.6666666666667원 입니다.\n"
          ]
        }
      ]
    },
    {
      "cell_type": "code",
      "source": [
        "a = float(input('첫 번째 실수를 입력하세요 >>>'))\n",
        "b = float(input('두 번째 실수를 입력하세요 >>>'))\n",
        "\n",
        "print(f'{a}와 {b}의 합은 {a+b}입니다.')"
      ],
      "metadata": {
        "id": "1sT1t_aQOgR8",
        "colab": {
          "base_uri": "https://localhost:8080/"
        },
        "outputId": "9f60a6b6-38f0-46d0-da7f-ce479c6d5cc3"
      },
      "execution_count": 28,
      "outputs": [
        {
          "output_type": "stream",
          "name": "stdout",
          "text": [
            "첫 번째 실수를 입력하세요 >>>1.3\n",
            "두 번째 실수를 입력하세요 >>>2.3\n",
            "1.3와 2.3의 합은 3.5999999999999996입니다.\n"
          ]
        }
      ]
    },
    {
      "cell_type": "code",
      "source": [
        "month = [31,28,31,30,31,30,31,31,30,31,30,31]\n",
        "\n",
        "ask = int(input('1~12월 사이의 월을 입력하세요 >>>'))\n",
        "\n",
        "print(f'{ask}월은{month[ask-1]}일 까지 있습니다.')"
      ],
      "metadata": {
        "id": "t1_MHmxNOh92",
        "colab": {
          "base_uri": "https://localhost:8080/"
        },
        "outputId": "f0b43e6c-6d3a-4492-ae15-e738e7888540"
      },
      "execution_count": 29,
      "outputs": [
        {
          "output_type": "stream",
          "name": "stdout",
          "text": [
            "1~12월 사이의 월을 입력하세요 >>>3\n",
            "3월은31일 까지 있습니다.\n"
          ]
        }
      ]
    },
    {
      "cell_type": "code",
      "source": [
        "english_dict = {\n",
        "    'flower':'꽃',\n",
        "    'fly':'날다',\n",
        "    'floor':'바닥'\n",
        "}\n",
        "english = input('영어 단어를 입력하세요 >>>')\n",
        "print(f'{english}:{english_dict[english]}')"
      ],
      "metadata": {
        "colab": {
          "base_uri": "https://localhost:8080/"
        },
        "id": "4km5jRvLQhkI",
        "outputId": "4d8ee21b-15e2-4bbd-f476-9608fa9a63a2"
      },
      "execution_count": 36,
      "outputs": [
        {
          "output_type": "stream",
          "name": "stdout",
          "text": [
            "영어 단어를 입력하세요 >>>flower\n",
            "flower:꽃\n"
          ]
        }
      ]
    },
    {
      "cell_type": "code",
      "source": [
        "s = set()\n",
        "\n",
        "hope = input('희망하는 수학 여행지를 입력하세요 >>>')\n",
        "s.add(hope)\n",
        "hope = input('희망하는 수학 여행지를 입력하세요 >>>')\n",
        "s.add(hope)\n",
        "hope = input('희망하는 수학 여행지를 입력하세요 >>>')\n",
        "s.add(hope)\n",
        "\n",
        "print(f'조사된 수학 여행지는 {s}입니다.')"
      ],
      "metadata": {
        "colab": {
          "base_uri": "https://localhost:8080/"
        },
        "id": "3X-LRLLLSZX3",
        "outputId": "6f239bba-7cb0-4853-dda5-f71cb7259d91"
      },
      "execution_count": 35,
      "outputs": [
        {
          "output_type": "stream",
          "name": "stdout",
          "text": [
            "희망하는 수학 여행지를 입력하세요 >>>제주\n",
            "희망하는 수학 여행지를 입력하세요 >>>제주\n",
            "희망하는 수학 여행지를 입력하세요 >>>경주\n",
            "조사된 수학 여행지는 {'제주', '경주'}입니다.\n"
          ]
        }
      ]
    },
    {
      "cell_type": "code",
      "source": [
        "a=7\n",
        "b=2\n",
        "print(\"{}+{}={}\".format(a,b,a+b))\n",
        "print(\"{}-{}={}\".format(a,b,a-b))\n",
        "print(\"{}*{}={}\".format(a,b,a*b))\n",
        "print(\"{}**{}={}\".format(a,b,a**b))\n",
        "print(\"{}/{}={}\".format(a,b,a/b))\n",
        "print(\"{}//{}={}\".format(a,b,a//b))\n",
        "print(\"{}%{}={}\".format(a,b,a%b))"
      ],
      "metadata": {
        "colab": {
          "base_uri": "https://localhost:8080/"
        },
        "id": "bDpHweb4S0pR",
        "outputId": "411d1da5-f3cc-4c89-8712-7407e79126b2"
      },
      "execution_count": 39,
      "outputs": [
        {
          "output_type": "stream",
          "name": "stdout",
          "text": [
            "7+2=9\n",
            "7-2=5\n",
            "7*2=14\n",
            "7**2=49\n",
            "7/2=3.5\n",
            "7//2=3\n",
            "7%2=1\n"
          ]
        }
      ]
    },
    {
      "cell_type": "code",
      "source": [
        "# 대입 연산자\n",
        "\n",
        "a = 1\n",
        "b = 2\n",
        "\n",
        "a, b = 1, 2\n",
        "\n",
        "print(f'a = {a}, b = {b}')\n",
        "\n",
        "# 두 변수의 값 교환(다른 언어)\n",
        "t = a\n",
        "a = b\n",
        "b = t\n",
        "print(f'a = {a}, b = {b}')\n",
        "\n",
        "# 두 변수의 값 교환(파이썬)\n",
        "a, b = b, a\n",
        "print(f'a = {a}, b = {b}')"
      ],
      "metadata": {
        "colab": {
          "base_uri": "https://localhost:8080/"
        },
        "id": "z3MTCK7Cbv7Q",
        "outputId": "7178c824-1d1f-4d8f-c744-3e96ebe1a49e"
      },
      "execution_count": 40,
      "outputs": [
        {
          "output_type": "stream",
          "name": "stdout",
          "text": [
            "a = 1, b = 2\n",
            "a = 2, b = 1\n",
            "a = 1, b = 2\n"
          ]
        }
      ]
    },
    {
      "cell_type": "code",
      "source": [
        "# 복합 대입 연산자\n",
        "\n",
        "a = 1\n",
        "print(a)\n",
        "a = a + 1\n",
        "print(a)\n",
        "a += 1\n",
        "print(a)\n",
        "\n",
        "a -= 1  # a = a - 1\n",
        "print(a)"
      ],
      "metadata": {
        "colab": {
          "base_uri": "https://localhost:8080/"
        },
        "id": "_bye2sIfbxoX",
        "outputId": "a4da7899-df59-47bb-a140-92a2594c5bab"
      },
      "execution_count": 41,
      "outputs": [
        {
          "output_type": "stream",
          "name": "stdout",
          "text": [
            "1\n",
            "2\n",
            "3\n",
            "2\n"
          ]
        }
      ]
    },
    {
      "cell_type": "code",
      "source": [
        "a, b = 10, 20\n",
        "print(f'a = {a}, b = {b}')\n",
        "\n",
        "a, b = b, a  # 다른 언어에는 없는 파이썬 스러원 표현"
      ],
      "metadata": {
        "colab": {
          "base_uri": "https://localhost:8080/"
        },
        "id": "pVJwAk24byuR",
        "outputId": "d4d80f11-b962-44e3-936a-f05e135c59f2"
      },
      "execution_count": 42,
      "outputs": [
        {
          "output_type": "stream",
          "name": "stdout",
          "text": [
            "a = 10, b = 20\n"
          ]
        }
      ]
    },
    {
      "cell_type": "code",
      "source": [
        "piggy_bank = 0\n",
        "\n",
        "money = 10000\n",
        "piggy_bank += money\n",
        "print(f'저금통에 용돈{money}원을 넣었습니다.')\n",
        "print(f'지금 저금통에는 {piggy_bank}원이 있습니다.')\n",
        "\n",
        "snack = 2000\n",
        "piggy_bank -= snack\n",
        "print(f'저금통에서 스낵 구입비 {snack}원을 뺐습니다.')\n",
        "print(f'지금 저금통에는 {piggy_bank}원이 있습니다.')\n"
      ],
      "metadata": {
        "colab": {
          "base_uri": "https://localhost:8080/"
        },
        "id": "LQsTq7WXcFIZ",
        "outputId": "fcfb306f-daa8-4360-82e4-54304b507c94"
      },
      "execution_count": 54,
      "outputs": [
        {
          "output_type": "stream",
          "name": "stdout",
          "text": [
            "저금통에 용돈10000원을 넣었습니다.\n",
            "지금 저금통에는 10000원이 있습니다.\n",
            "저금통에서 스낵 구입비 2000원을 뺐습니다.\n",
            "지금 저금통에는 8000원이 있습니다.\n"
          ]
        }
      ]
    },
    {
      "cell_type": "code",
      "source": [
        "# p 81\n",
        "\n",
        "[+ [2,4,61,3,5] ]"
      ],
      "metadata": {
        "colab": {
          "base_uri": "https://localhost:8080/",
          "height": 209
        },
        "id": "dKk40iqSeBrH",
        "outputId": "4a4de34d-b46a-4519-e9b8-ab3aa73f6725"
      },
      "execution_count": 57,
      "outputs": [
        {
          "output_type": "error",
          "ename": "TypeError",
          "evalue": "ignored",
          "traceback": [
            "\u001b[0;31m---------------------------------------------------------------------------\u001b[0m",
            "\u001b[0;31mTypeError\u001b[0m                                 Traceback (most recent call last)",
            "\u001b[0;32m<ipython-input-57-2101197152f6>\u001b[0m in \u001b[0;36m<module>\u001b[0;34m()\u001b[0m\n\u001b[1;32m      1\u001b[0m \u001b[0;31m# p 81\u001b[0m\u001b[0;34m\u001b[0m\u001b[0;34m\u001b[0m\u001b[0;34m\u001b[0m\u001b[0m\n\u001b[1;32m      2\u001b[0m \u001b[0;34m\u001b[0m\u001b[0m\n\u001b[0;32m----> 3\u001b[0;31m \u001b[0;34m[\u001b[0m\u001b[0;34m+\u001b[0m \u001b[0;34m[\u001b[0m\u001b[0;36m2\u001b[0m\u001b[0;34m,\u001b[0m\u001b[0;36m4\u001b[0m\u001b[0;34m,\u001b[0m\u001b[0;36m61\u001b[0m\u001b[0;34m,\u001b[0m\u001b[0;36m3\u001b[0m\u001b[0;34m,\u001b[0m\u001b[0;36m5\u001b[0m\u001b[0;34m]\u001b[0m \u001b[0;34m]\u001b[0m\u001b[0;34m\u001b[0m\u001b[0;34m\u001b[0m\u001b[0m\n\u001b[0m",
            "\u001b[0;31mTypeError\u001b[0m: bad operand type for unary +: 'list'"
          ]
        }
      ]
    },
    {
      "cell_type": "code",
      "source": [
        "'hello'+' '+'python'"
      ],
      "metadata": {
        "colab": {
          "base_uri": "https://localhost:8080/",
          "height": 35
        },
        "id": "ZGxCiyQZhHSw",
        "outputId": "05024aab-5d43-4f8d-dea8-4f9a8e633161"
      },
      "execution_count": 58,
      "outputs": [
        {
          "output_type": "execute_result",
          "data": {
            "text/plain": [
              "'hello python'"
            ],
            "application/vnd.google.colaboratory.intrinsic+json": {
              "type": "string"
            }
          },
          "metadata": {},
          "execution_count": 58
        }
      ]
    },
    {
      "cell_type": "code",
      "source": [
        "[1,3,5] * 2"
      ],
      "metadata": {
        "colab": {
          "base_uri": "https://localhost:8080/"
        },
        "id": "zOjLLOzfhR5t",
        "outputId": "65248cc0-94ab-4b38-d0e5-1b77d17f70a0"
      },
      "execution_count": 59,
      "outputs": [
        {
          "output_type": "execute_result",
          "data": {
            "text/plain": [
              "[1, 3, 5, 1, 3, 5]"
            ]
          },
          "metadata": {},
          "execution_count": 59
        }
      ]
    },
    {
      "cell_type": "code",
      "source": [
        "'*' * 5"
      ],
      "metadata": {
        "colab": {
          "base_uri": "https://localhost:8080/",
          "height": 35
        },
        "id": "D-NZF4oIhSO8",
        "outputId": "e79abf94-77e5-494f-9075-36d68af43860"
      },
      "execution_count": 60,
      "outputs": [
        {
          "output_type": "execute_result",
          "data": {
            "text/plain": [
              "'*****'"
            ],
            "application/vnd.google.colaboratory.intrinsic+json": {
              "type": "string"
            }
          },
          "metadata": {},
          "execution_count": 60
        }
      ]
    },
    {
      "cell_type": "code",
      "source": [
        "'-' * 30"
      ],
      "metadata": {
        "colab": {
          "base_uri": "https://localhost:8080/",
          "height": 35
        },
        "id": "tz06tvNShTpY",
        "outputId": "cff64cc0-137b-475e-cc21-5f57b4e875dc"
      },
      "execution_count": 61,
      "outputs": [
        {
          "output_type": "execute_result",
          "data": {
            "text/plain": [
              "'------------------------------'"
            ],
            "application/vnd.google.colaboratory.intrinsic+json": {
              "type": "string"
            }
          },
          "metadata": {},
          "execution_count": 61
        }
      ]
    },
    {
      "cell_type": "code",
      "source": [
        "# 멤버쉽 연산자\n",
        "# 어떤 값이 지정된 컬렉션에 (리스트, 문자열, 딕셔너리) 속해 있는지\n",
        "# 여부를 판단하여 속해있으면 True 아니면 False로 반환\n",
        "\n",
        "5 in [ 1,2,3,4,5]"
      ],
      "metadata": {
        "colab": {
          "base_uri": "https://localhost:8080/"
        },
        "id": "INENhjOchVIc",
        "outputId": "b27a63e5-62ad-4997-88d9-e51342641f67"
      },
      "execution_count": 62,
      "outputs": [
        {
          "output_type": "execute_result",
          "data": {
            "text/plain": [
              "True"
            ]
          },
          "metadata": {},
          "execution_count": 62
        }
      ]
    },
    {
      "cell_type": "code",
      "source": [
        "'n' in 'apple'"
      ],
      "metadata": {
        "colab": {
          "base_uri": "https://localhost:8080/"
        },
        "id": "Wr9G3PE1hWUZ",
        "outputId": "d60f5776-5639-469d-fa4b-d1da6ff9ef38"
      },
      "execution_count": 63,
      "outputs": [
        {
          "output_type": "execute_result",
          "data": {
            "text/plain": [
              "False"
            ]
          },
          "metadata": {},
          "execution_count": 63
        }
      ]
    },
    {
      "cell_type": "code",
      "source": [
        "5 not in [1,2,3,4,5]"
      ],
      "metadata": {
        "colab": {
          "base_uri": "https://localhost:8080/"
        },
        "id": "gfmjrAsHhXeX",
        "outputId": "5006744d-ea35-438d-81a6-19028cb0ab84"
      },
      "execution_count": 64,
      "outputs": [
        {
          "output_type": "execute_result",
          "data": {
            "text/plain": [
              "False"
            ]
          },
          "metadata": {},
          "execution_count": 64
        }
      ]
    },
    {
      "cell_type": "code",
      "source": [
        "# 삼항 연산자\n",
        "\n",
        "# 참 if       조건식      else 거짓\n",
        "\n",
        "1 if 1 < 2 else 2"
      ],
      "metadata": {
        "colab": {
          "base_uri": "https://localhost:8080/"
        },
        "id": "t0BYeB0VhYhA",
        "outputId": "6b17b6ad-b828-463c-d61f-a2871ccba776"
      },
      "execution_count": 65,
      "outputs": [
        {
          "output_type": "execute_result",
          "data": {
            "text/plain": [
              "1"
            ]
          },
          "metadata": {},
          "execution_count": 65
        }
      ]
    },
    {
      "cell_type": "code",
      "source": [
        "no = input('10~99사이의 정수를 입력하시오 >>>')\n",
        "\n",
        "print(f'십의 자리:{no[0]}')\n",
        "print(f'일의 자리:{no[1]}')"
      ],
      "metadata": {
        "colab": {
          "base_uri": "https://localhost:8080/"
        },
        "id": "LP9Mn9Q_haVT",
        "outputId": "bbd81c83-8088-4c78-acac-4294bc3d543e"
      },
      "execution_count": 72,
      "outputs": [
        {
          "output_type": "stream",
          "name": "stdout",
          "text": [
            "10~99사이의 정수를 입력하시오 >>>34\n",
            "십의 자리:3\n",
            "일의 자리:4\n"
          ]
        }
      ]
    },
    {
      "cell_type": "code",
      "source": [
        "no = int(input('10~99사이의 정수를 입력하시오 >>>'))\n",
        "\n",
        "print(f'십의 자리:{no//10}')\n",
        "print(f'일의 자리:{no%10}')"
      ],
      "metadata": {
        "colab": {
          "base_uri": "https://localhost:8080/"
        },
        "id": "EYZWVvuJkBiF",
        "outputId": "ba07c6dc-920e-4215-8140-e297866ec260"
      },
      "execution_count": 79,
      "outputs": [
        {
          "output_type": "stream",
          "name": "stdout",
          "text": [
            "10~99사이의 정수를 입력하시오 >>>23\n",
            "십의 자리:2\n",
            "일의 자리:3\n"
          ]
        }
      ]
    },
    {
      "cell_type": "code",
      "source": [
        "second = int(input('초를 입력하세요 >>>'))\n",
        "\n",
        "print(f'변환 결과는 {second//3600}시간 {(second%3600)//60}분 {second%60}초입니다')"
      ],
      "metadata": {
        "colab": {
          "base_uri": "https://localhost:8080/"
        },
        "id": "3L8scGlQlBxW",
        "outputId": "9fc6b5f1-92e5-4c25-cdab-6f314bbb50e6"
      },
      "execution_count": 88,
      "outputs": [
        {
          "output_type": "stream",
          "name": "stdout",
          "text": [
            "초를 입력하세요 >>>3690\n",
            "변환 결과는 1시간 1분 30초입니다\n"
          ]
        }
      ]
    },
    {
      "cell_type": "code",
      "source": [
        "no = int(input('4자리 사원번호를 입력하세요 >>>'))\n",
        "no_last = no % 10\n",
        "is_am = no_last >= 5\n",
        "\n",
        "print(f'근무 시간은 {(\"오전\" if is_am else \"오후\")}입니다')"
      ],
      "metadata": {
        "colab": {
          "base_uri": "https://localhost:8080/"
        },
        "id": "reSt8SjjmYwC",
        "outputId": "76c520f0-ff14-4b5a-aa32-cda6e5345b0f"
      },
      "execution_count": 101,
      "outputs": [
        {
          "output_type": "stream",
          "name": "stdout",
          "text": [
            "4자리 사원번호를 입력하세요 >>>1235\n",
            "근무 시간은 오전입니다\n"
          ]
        }
      ]
    }
  ]
}