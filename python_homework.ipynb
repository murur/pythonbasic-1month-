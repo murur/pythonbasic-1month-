{
  "nbformat": 4,
  "nbformat_minor": 0,
  "metadata": {
    "colab": {
      "name": "python homework.ipynb",
      "provenance": [],
      "authorship_tag": "ABX9TyNKkxlv8eMGo/1cMTF8+IF/",
      "include_colab_link": true
    },
    "kernelspec": {
      "name": "python3",
      "display_name": "Python 3"
    },
    "language_info": {
      "name": "python"
    }
  },
  "cells": [
    {
      "cell_type": "markdown",
      "metadata": {
        "id": "view-in-github",
        "colab_type": "text"
      },
      "source": [
        "<a href=\"https://colab.research.google.com/github/murur/pythonbasic-1month-/blob/main/python_homework.ipynb\" target=\"_parent\"><img src=\"https://colab.research.google.com/assets/colab-badge.svg\" alt=\"Open In Colab\"/></a>"
      ]
    },
    {
      "cell_type": "code",
      "execution_count": null,
      "metadata": {
        "colab": {
          "base_uri": "https://localhost:8080/"
        },
        "id": "7GsEiKySr_G8",
        "outputId": "e20a7504-cb88-4626-a701-db7a62e29b3b"
      },
      "outputs": [
        {
          "output_type": "stream",
          "name": "stdout",
          "text": [
            "hello word\n"
          ]
        }
      ],
      "source": [
        "# 01\n",
        "\n",
        "print(\"hello word\")"
      ]
    },
    {
      "cell_type": "code",
      "source": [
        "# 02\n",
        "\n",
        "print(\"mary's cosmetics\")"
      ],
      "metadata": {
        "colab": {
          "base_uri": "https://localhost:8080/"
        },
        "id": "li05FD5RsJFw",
        "outputId": "b46385d4-8451-4f9c-ca95-4b0b40a836cd"
      },
      "execution_count": null,
      "outputs": [
        {
          "output_type": "stream",
          "name": "stdout",
          "text": [
            "mary's cosmetics\n"
          ]
        }
      ]
    },
    {
      "cell_type": "code",
      "source": [
        "# 03\n",
        "\n",
        "print(\"신씨가 소리질렀다. \\\"도둑이야\\\".\")"
      ],
      "metadata": {
        "colab": {
          "base_uri": "https://localhost:8080/"
        },
        "id": "rCUANnV8sX7C",
        "outputId": "5023b812-3356-41f3-da27-eaef15009395"
      },
      "execution_count": null,
      "outputs": [
        {
          "output_type": "stream",
          "name": "stdout",
          "text": [
            "신씨가 소리질렀다. \"도둑이야\".\n"
          ]
        }
      ]
    },
    {
      "cell_type": "code",
      "source": [
        "# 04\n",
        "\n",
        "print(\"\\\"c:|windows\\\"\")"
      ],
      "metadata": {
        "colab": {
          "base_uri": "https://localhost:8080/"
        },
        "id": "nzbiSna4tubU",
        "outputId": "ec981e3a-8b8b-445f-9b9c-8b9abe946ca1"
      },
      "execution_count": null,
      "outputs": [
        {
          "output_type": "stream",
          "name": "stdout",
          "text": [
            "\"c:|windows\"\n"
          ]
        }
      ]
    },
    {
      "cell_type": "code",
      "source": [
        "# 05\n",
        "\n",
        "print(\"안녕하세요.\\n 만나서\\t\\t 반갑습니다.\")\n",
        "\n",
        "# \\n은 줄 띄어쓰기이고 \\t는 칸 띄어쓰기 입니다"
      ],
      "metadata": {
        "colab": {
          "base_uri": "https://localhost:8080/"
        },
        "id": "aklI5aAFWORS",
        "outputId": "d2d727ff-abd7-44a0-c0f5-837d8aad74c3"
      },
      "execution_count": null,
      "outputs": [
        {
          "output_type": "stream",
          "name": "stdout",
          "text": [
            "안녕하세요.\n",
            " 만나서\t\t 반갑습니다.\n"
          ]
        }
      ]
    },
    {
      "cell_type": "code",
      "source": [
        "# 06\n",
        "\n",
        "print (\"오늘은\", \"일요일\")\n",
        "# 오늘은 일요일"
      ],
      "metadata": {
        "colab": {
          "base_uri": "https://localhost:8080/"
        },
        "id": "V1WLvqBkWsM2",
        "outputId": "14b13b88-b9b0-4b40-c102-595d05a04a64"
      },
      "execution_count": null,
      "outputs": [
        {
          "output_type": "stream",
          "name": "stdout",
          "text": [
            "오늘은 일요일\n"
          ]
        }
      ]
    },
    {
      "cell_type": "code",
      "source": [
        "# 07\n",
        "\n",
        "print('naver;kakao;samsung')"
      ],
      "metadata": {
        "colab": {
          "base_uri": "https://localhost:8080/"
        },
        "id": "kmA5PqLtWwI_",
        "outputId": "e45f6b8b-9a10-495f-ce78-871e031b35e0"
      },
      "execution_count": null,
      "outputs": [
        {
          "output_type": "stream",
          "name": "stdout",
          "text": [
            "naver;kakao;samsung\n"
          ]
        }
      ]
    },
    {
      "cell_type": "code",
      "source": [
        "# 08\n",
        "\n",
        "print('naver/kakao/sk/samsung')"
      ],
      "metadata": {
        "colab": {
          "base_uri": "https://localhost:8080/"
        },
        "id": "81ZIugHLXM0c",
        "outputId": "466d1006-e805-4c25-e1f6-f5886e444765"
      },
      "execution_count": null,
      "outputs": [
        {
          "output_type": "stream",
          "name": "stdout",
          "text": [
            "naver/kakao/sk/samsung\n"
          ]
        }
      ]
    },
    {
      "cell_type": "code",
      "source": [
        "# 09\n",
        "\n",
        "print(\"first\");print(\"second\")\n",
        "print('first', end = ' ')\n",
        "print(\"second\")"
      ],
      "metadata": {
        "colab": {
          "base_uri": "https://localhost:8080/"
        },
        "id": "j99EHzWUXXCr",
        "outputId": "46414f27-46de-4483-b272-f8824cceb63d"
      },
      "execution_count": null,
      "outputs": [
        {
          "output_type": "stream",
          "name": "stdout",
          "text": [
            "first\n",
            "second\n",
            "first second\n"
          ]
        }
      ]
    },
    {
      "cell_type": "code",
      "source": [
        "# 10\n",
        "\n",
        "int(5/3)"
      ],
      "metadata": {
        "colab": {
          "base_uri": "https://localhost:8080/"
        },
        "id": "_kz6YpOrXfw3",
        "outputId": "237e2859-d957-4377-ce60-a93dc9e8cc71"
      },
      "execution_count": null,
      "outputs": [
        {
          "output_type": "execute_result",
          "data": {
            "text/plain": [
              "1"
            ]
          },
          "metadata": {},
          "execution_count": 23
        }
      ]
    },
    {
      "cell_type": "code",
      "source": [
        "# 11\n",
        "\n",
        "삼성전자 = 50000\n",
        "n = int(input('주식의 개수 >>>'))\n",
        "print(f'내가 보유한 삼성전자의 가격은{삼성전자 * n}원 입니다.')"
      ],
      "metadata": {
        "colab": {
          "base_uri": "https://localhost:8080/"
        },
        "id": "kWjHB_UiYh2F",
        "outputId": "e0a8888f-a127-41ca-8783-6cc3fe665bed"
      },
      "execution_count": null,
      "outputs": [
        {
          "output_type": "stream",
          "name": "stdout",
          "text": [
            "주식의 개수 >>>10\n",
            "내가 보유한 삼성전자의 가격은500000원 입니다.\n"
          ]
        }
      ]
    },
    {
      "cell_type": "code",
      "source": [
        "# 12\n",
        "\n",
        "# 다음 표는 삼성전자의 일부 투자정보입니다. 변수를 사용해서 시가총액, 현재가, PER 등을\n",
        "# 바인딩해보세요.\n",
        "\n"
      ],
      "metadata": {
        "id": "hnrYlbeTZmCu"
      },
      "execution_count": null,
      "outputs": []
    },
    {
      "cell_type": "code",
      "source": [
        "# 13\n",
        "\n",
        "s = \"hello\"\n",
        "t = \"python\"\n",
        "\n",
        "print(s,'!',t,)"
      ],
      "metadata": {
        "colab": {
          "base_uri": "https://localhost:8080/"
        },
        "id": "sTsUpV6oZzJN",
        "outputId": "b17459f1-138f-46ca-d7cb-18b394d34495"
      },
      "execution_count": null,
      "outputs": [
        {
          "output_type": "stream",
          "name": "stdout",
          "text": [
            "hello ! python\n"
          ]
        }
      ]
    },
    {
      "cell_type": "code",
      "source": [
        "# 14\n",
        "\n",
        "int(2+2*3)"
      ],
      "metadata": {
        "colab": {
          "base_uri": "https://localhost:8080/"
        },
        "id": "70UofySDaVb8",
        "outputId": "5bb568fc-4eae-49a2-e0e5-f023ad027d5c"
      },
      "execution_count": null,
      "outputs": [
        {
          "output_type": "execute_result",
          "data": {
            "text/plain": [
              "8"
            ]
          },
          "metadata": {},
          "execution_count": 37
        }
      ]
    },
    {
      "cell_type": "code",
      "source": [
        "# 15\n",
        "\n",
        "a = \"132\"\n",
        "print(type(a))"
      ],
      "metadata": {
        "colab": {
          "base_uri": "https://localhost:8080/"
        },
        "id": "wZ16ZTdMacU6",
        "outputId": "6b8696f9-47a8-42d2-fcff-04c51cfc9542"
      },
      "execution_count": null,
      "outputs": [
        {
          "output_type": "stream",
          "name": "stdout",
          "text": [
            "<class 'str'>\n"
          ]
        }
      ]
    },
    {
      "cell_type": "code",
      "source": [
        "# 16\n",
        "\n",
        "num_str = int(\"720\")\n",
        "print(type(num_str))"
      ],
      "metadata": {
        "colab": {
          "base_uri": "https://localhost:8080/"
        },
        "id": "7Zcq9Vv3ag01",
        "outputId": "3fc9af25-fba6-45b5-d046-53e80e9700c0"
      },
      "execution_count": null,
      "outputs": [
        {
          "output_type": "stream",
          "name": "stdout",
          "text": [
            "<class 'int'>\n"
          ]
        }
      ]
    },
    {
      "cell_type": "code",
      "source": [
        "# 17\n",
        "\n",
        "num = str(100)\n",
        "print(type(num))"
      ],
      "metadata": {
        "colab": {
          "base_uri": "https://localhost:8080/"
        },
        "id": "s2s4Li0ha8NU",
        "outputId": "829e818d-0b11-48c2-c3b1-585a0a13bcc1"
      },
      "execution_count": null,
      "outputs": [
        {
          "output_type": "stream",
          "name": "stdout",
          "text": [
            "<class 'str'>\n"
          ]
        }
      ]
    },
    {
      "cell_type": "code",
      "source": [
        "# 18\n",
        "\n",
        "a = float(\"15.79\")\n",
        "print(type(a))"
      ],
      "metadata": {
        "colab": {
          "base_uri": "https://localhost:8080/"
        },
        "id": "gOfWLhmBbC4M",
        "outputId": "064010c0-823e-447d-aba0-f8f60c35662b"
      },
      "execution_count": null,
      "outputs": [
        {
          "output_type": "stream",
          "name": "stdout",
          "text": [
            "<class 'float'>\n"
          ]
        }
      ]
    },
    {
      "cell_type": "code",
      "source": [
        "# 19\n",
        "\n",
        "year = int(\"2020\")\n",
        "print(f'3년 후의 연도는{year + 3}입니다.')\n"
      ],
      "metadata": {
        "colab": {
          "base_uri": "https://localhost:8080/"
        },
        "id": "FcuoDZs2bOBW",
        "outputId": "dc16f43d-0530-4201-ce37-7818cd5f72ed"
      },
      "execution_count": null,
      "outputs": [
        {
          "output_type": "stream",
          "name": "stdout",
          "text": [
            "3년 후의 연도는2023입니다.\n"
          ]
        }
      ]
    },
    {
      "cell_type": "code",
      "source": [
        "# 20\n",
        "\n",
        "month = 48584\n",
        "n = int(input('할부 개월 입력 >>>'))\n",
        "print(f'원래 정가 금액은 {month * n}원 입니다.')"
      ],
      "metadata": {
        "colab": {
          "base_uri": "https://localhost:8080/"
        },
        "id": "Kw-OkQkrcapF",
        "outputId": "ad21cd49-92cf-4907-90a5-5dda20acbd21"
      },
      "execution_count": null,
      "outputs": [
        {
          "output_type": "stream",
          "name": "stdout",
          "text": [
            "할부 개월 입력 >>>36\n",
            "원래 정가 금액은 1749024원 입니다.\n"
          ]
        }
      ]
    }
  ]
}