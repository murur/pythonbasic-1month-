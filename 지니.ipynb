{
  "nbformat": 4,
  "nbformat_minor": 0,
  "metadata": {
    "colab": {
      "name": "지니.ipynb",
      "provenance": [],
      "authorship_tag": "ABX9TyOM2BHKzQ7r7J0c/OPK8Fig",
      "include_colab_link": true
    },
    "kernelspec": {
      "name": "python3",
      "display_name": "Python 3"
    },
    "language_info": {
      "name": "python"
    }
  },
  "cells": [
    {
      "cell_type": "markdown",
      "metadata": {
        "id": "view-in-github",
        "colab_type": "text"
      },
      "source": [
        "<a href=\"https://colab.research.google.com/github/murur/pythonbasic-1month-/blob/main/%EC%A7%80%EB%8B%88.ipynb\" target=\"_parent\"><img src=\"https://colab.research.google.com/assets/colab-badge.svg\" alt=\"Open In Colab\"/></a>"
      ]
    },
    {
      "cell_type": "code",
      "execution_count": null,
      "metadata": {
        "id": "KRrGrhTBPevG"
      },
      "outputs": [],
      "source": [
        "!pip install selenium\n",
        "!apt-get update\n",
        "!apt install chromium-chromedriver\n",
        "!cp /usr/lib/chromium-browser/chromedriver/usr/bin\n",
        "\n",
        "from selenium import webdriver\n",
        "\n",
        "options =webdriver.ChromeOptions()\n",
        "options.add_argument('--headless')\n",
        "options.add_argument('--no-sandbox')\n",
        "options.add_argument('--disable-dev-shm-usage')\n",
        "driver = webdriver.Chrome('chromedriver', options=options)\n"
      ]
    },
    {
      "cell_type": "code",
      "source": [
        "driver.get('https://www.genie.co.kr/chart/top200')\n",
        "\n",
        "from bs4 import BeautifulSoup as bs   \n",
        "import pandas as pd     \n",
        "\n",
        "\n",
        "html = driver.page_source\n",
        "soup = bs(html)\n",
        "\n",
        "soup \n",
        "\n",
        "\n",
        "song_data1 = []\n",
        "rank = 1\n",
        "\n",
        "songs = soup.select('#body-content > div.newest-list > div > table > tbody > tr')\n",
        "for tr in songs:\n",
        "    title = tr.select_one('td.info > a.title.ellipsis').text\n",
        "    artist = tr.select_one('td.info > a.artist.ellipsis').text\n",
        "    song_data1.append(['Genie',rank,title,artist])\n",
        "    rank += 1\n",
        "\n",
        "song_data1\n",
        "\n",
        "df = pd.DataFrame(song_data1, columns = ['차드명','순위','타이틀','가수'])\n",
        "df\n",
        "\n",
        "df.to_excel('Genie1.xlsx', index=False)"
      ],
      "metadata": {
        "id": "l78oZPLAP8S4"
      },
      "execution_count": null,
      "outputs": []
    },
    {
      "cell_type": "code",
      "source": [
        "driver.get('https://www.genie.co.kr/chart/top200?ditc=D&ymd=20220507&hh=01&rtm=Y&pg=2')\n",
        "\n",
        "from bs4 import BeautifulSoup as bs   \n",
        "import pandas as pd     \n",
        "\n",
        "\n",
        "html = driver.page_source\n",
        "soup = bs(html)\n",
        "\n",
        "soup \n",
        "\n",
        "\n",
        "song_data2 = []\n",
        "rank = 51\n",
        "\n",
        "songs = soup.select('#body-content > div.newest-list > div > table > tbody > tr')\n",
        "for tr in songs:\n",
        "    title = tr.select_one('td.info > a.title.ellipsis').text\n",
        "    artist = tr.select_one('td.info > a.artist.ellipsis').text\n",
        "    song_data2.append(['Genie',rank,title,artist])\n",
        "    rank += 1\n",
        "\n",
        "song_data2\n",
        "\n",
        "df = pd.DataFrame(song_data2, columns = ['차드명','순위','타이틀','가수'])\n",
        "df\n",
        "\n",
        "df.to_excel('Genie2.xlsx', index=False)"
      ],
      "metadata": {
        "id": "Rz3-OnBKolhv"
      },
      "execution_count": null,
      "outputs": []
    },
    {
      "cell_type": "code",
      "source": [
        "import pandas as pd\n",
        "import glob\n",
        "\n",
        "\n",
        "try:\n",
        "    path = '\"C:\\Users\\kdh92\\OneDrive\\바탕 화면\\2\"'\n",
        "    files = glob.glob(path + \"*.xlsx\")\n",
        "    excel = pd.DataFrame()\n",
        "    for file_name in files:\n",
        "        df = pd.read_excel(file_name)\n",
        "        excel = excel.append(df, ignore_index=True)\n",
        "    print(excel)\n",
        "\n",
        "except Exception as ex:\n",
        "    print('error' + str(ex))"
      ],
      "metadata": {
        "colab": {
          "base_uri": "https://localhost:8080/",
          "height": 137
        },
        "id": "WWggBLHJqetM",
        "outputId": "43d87a34-3744-42bf-9d05-a1366e53c2d4"
      },
      "execution_count": null,
      "outputs": [
        {
          "output_type": "error",
          "ename": "SyntaxError",
          "evalue": "ignored",
          "traceback": [
            "\u001b[0;36m  File \u001b[0;32m\"<ipython-input-98-c206b88200d3>\"\u001b[0;36m, line \u001b[0;32m6\u001b[0m\n\u001b[0;31m    path = '\"C:\\Users\\kdh92\\OneDrive\\바탕 화면\\2\"'\u001b[0m\n\u001b[0m          ^\u001b[0m\n\u001b[0;31mSyntaxError\u001b[0m\u001b[0;31m:\u001b[0m (unicode error) 'unicodeescape' codec can't decode bytes in position 3-4: truncated \\UXXXXXXXX escape\n"
          ]
        }
      ]
    }
  ]
}