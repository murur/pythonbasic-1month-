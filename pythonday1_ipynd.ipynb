{
  "nbformat": 4,
  "nbformat_minor": 0,
  "metadata": {
    "colab": {
      "name": "pythonday1.ipynd",
      "provenance": [],
      "authorship_tag": "ABX9TyOx5TINnBwbAjnnvzDzX5wc",
      "include_colab_link": true
    },
    "kernelspec": {
      "name": "python3",
      "display_name": "Python 3"
    },
    "language_info": {
      "name": "python"
    }
  },
  "cells": [
    {
      "cell_type": "markdown",
      "metadata": {
        "id": "view-in-github",
        "colab_type": "text"
      },
      "source": [
        "<a href=\"https://colab.research.google.com/github/murur/pythonbasic-1month-/blob/main/pythonday1_ipynd.ipynb\" target=\"_parent\"><img src=\"https://colab.research.google.com/assets/colab-badge.svg\" alt=\"Open In Colab\"/></a>"
      ]
    },
    {
      "cell_type": "code",
      "execution_count": 12,
      "metadata": {
        "id": "iZk3vuWDc7sf"
      },
      "outputs": [],
      "source": [
        "# 파이썬이란???\n",
        "# 귀도 반 로썸\n",
        "# 1. 인터프리터 언어이다. 한줄한줄 실행한 결과를 바로바로 볼수 있다. \n",
        "# 2. 플랫폼에 독립적이다. 맥 윈도우 리눅스...전부 같은 파이썬 코드를 사용할수 있다. \n",
        "# 3. 객체지향 언어이다. 객체를 기반으로 정보은닉, 상속 등등의 개념을 지원한다. \n",
        "# 4. 동적 타이핑 언어이다. 실행 중에 처리할수 있는 작업을 동적 작업이라고 하고 파이썬은 이것을 지원한다. \n",
        "# 5. 개발 속도가 빠르다. 이미 만들어 놓은 다양한 라이브러리를 사용하여 빠르게 새로운 프로그램을 개발할수 있다. \n",
        "\n",
        "\n",
        "# 주석 comment  \n",
        "# 프로그램의 소스 코드에 설명을 작성하는 부분을 주석이라고 한다. \n",
        "# DocString  ''' 코드 설명   '''\n",
        "\n",
        "\n",
        "'''\n",
        "여러줄1\n",
        "여러줄2\n",
        "여러줄3\n",
        "'''\n",
        "\"\"\"\n",
        "\"\"\"\n",
        "\n",
        "\n"
      ]
    },
    {
      "cell_type": "code",
      "source": [
        "# 코드 위에 주석 다릭\n",
        "print('Hello World')  # 코드 오른쪽에 주석 달기"
      ],
      "metadata": {
        "id": "62hYWvnfvyj4"
      },
      "execution_count": null,
      "outputs": []
    },
    {
      "cell_type": "code",
      "source": [
        "# math 모듈 포함\n",
        "import math\n",
        "\n",
        "# get_are() 함수 정의\n",
        "def get_area(radius):\n",
        "  area = math.pi * math.pow(radius, 2)\n",
        "  return area\n",
        "\n",
        "radius = 1.5\n",
        "# get_area() 함수 호출 결과를 area 변수에 저장\n",
        "area = get_area(radius)\n",
        "print(area)\n",
        "print(get_area.__doc__) #Docstring 확인"
      ],
      "metadata": {
        "colab": {
          "base_uri": "https://localhost:8080/"
        },
        "id": "UANAaCYYpLVU",
        "outputId": "02ff2832-aa84-4d96-f5ab-3c499d57b737"
      },
      "execution_count": 7,
      "outputs": [
        {
          "output_type": "stream",
          "name": "stdout",
          "text": [
            "7.0685834705770345\n",
            "None\n"
          ]
        }
      ]
    },
    {
      "cell_type": "code",
      "source": [
        "# 변수...\n",
        "# variable 어떤 데이터를 저장할때 사용하는 메모리 저장소이다. \n",
        "\n",
        "score = 100\n",
        "\n",
        "print(100)\n",
        "print(score)\n",
        "\n",
        "\n",
        "# 변수명 만드는 규칙\n",
        "\n",
        "# 1 영문 한글 숫자 밑줄로 구성된다. (한글은 사용하지 말자)\n",
        "# 2 특수문자느 사용할수 없다.  @#$%^&*\n",
        "# 3 대문자와 소문자를 구분한다. a = 1    A = 2\n",
        "# 4 변수명의 첫글자에는 숫자가 올수 없다. a1 = 1 (0)  1a = 2 (x)\n",
        "# 5 예약어, 키워드는 변수명으로 사용할수 없다. \n",
        "\n",
        "# * 가급적이면 소문자로만 만들자\n",
        "# * 한글 변수명은 가능하지만 사용하지 말자\n",
        "# * 변수명에 의미를 담자.  a = 85    mathScore = 85"
      ],
      "metadata": {
        "colab": {
          "base_uri": "https://localhost:8080/"
        },
        "id": "VJ_Pal3hrmzL",
        "outputId": "4824f993-e68e-4e02-9ff6-b25e60f254d7"
      },
      "execution_count": 14,
      "outputs": [
        {
          "output_type": "stream",
          "name": "stdout",
          "text": [
            "100\n",
            "100\n"
          ]
        }
      ]
    },
    {
      "cell_type": "code",
      "source": [
        "name = 'Alice'\n",
        "age = 25\n",
        "address = '''우편번호 12345\n",
        "서울시 영등포구 여의도동\n",
        "서울빌딩 501호'''\n",
        "boyfriend = None\n",
        "height = 168.5\n",
        "\n",
        "print(name)\n",
        "print(age)\n",
        "print(address)\n",
        "print(boyfriend)\n",
        "print(height)"
      ],
      "metadata": {
        "colab": {
          "base_uri": "https://localhost:8080/"
        },
        "id": "NqTOX1qwu1na",
        "outputId": "58dbc087-514e-42bf-c910-402b3ef6c176"
      },
      "execution_count": 15,
      "outputs": [
        {
          "output_type": "stream",
          "name": "stdout",
          "text": [
            "Alice\n",
            "25\n",
            "우편번호 12345\n",
            "서울시 영등포구 여의도동\n",
            "서울빌딩 501호\n",
            "None\n",
            "168.5\n"
          ]
        }
      ]
    },
    {
      "cell_type": "code",
      "source": [
        "int(1.3) #정수"
      ],
      "metadata": {
        "colab": {
          "base_uri": "https://localhost:8080/"
        },
        "id": "p1Atmduq1klD",
        "outputId": "63a1a02d-080e-404c-9fba-9b028487ee64"
      },
      "execution_count": 17,
      "outputs": [
        {
          "output_type": "execute_result",
          "data": {
            "text/plain": [
              "1"
            ]
          },
          "metadata": {},
          "execution_count": 17
        }
      ]
    },
    {
      "cell_type": "code",
      "source": [
        "float(1) #실수"
      ],
      "metadata": {
        "colab": {
          "base_uri": "https://localhost:8080/"
        },
        "id": "vvwQej0J1zH7",
        "outputId": "5f8c53dc-f5bf-4666-bc65-26ff6d680803"
      },
      "execution_count": 20,
      "outputs": [
        {
          "output_type": "execute_result",
          "data": {
            "text/plain": [
              "1.0"
            ]
          },
          "metadata": {},
          "execution_count": 20
        }
      ]
    },
    {
      "cell_type": "code",
      "source": [
        "bool(1) #논리\n",
        "bool(0)"
      ],
      "metadata": {
        "colab": {
          "base_uri": "https://localhost:8080/"
        },
        "id": "VOmtDGH317jh",
        "outputId": "4d661f47-564c-4405-f2bd-cdaa57707f35"
      },
      "execution_count": 23,
      "outputs": [
        {
          "output_type": "execute_result",
          "data": {
            "text/plain": [
              "False"
            ]
          },
          "metadata": {},
          "execution_count": 23
        }
      ]
    },
    {
      "cell_type": "code",
      "source": [
        "# 문자열 str\n",
        "str(100)"
      ],
      "metadata": {
        "colab": {
          "base_uri": "https://localhost:8080/",
          "height": 35
        },
        "id": "SSvaTnkK2IRj",
        "outputId": "bb4d804a-e735-44eb-86a2-26665b6ff069"
      },
      "execution_count": 25,
      "outputs": [
        {
          "output_type": "execute_result",
          "data": {
            "text/plain": [
              "'100'"
            ],
            "application/vnd.google.colaboratory.intrinsic+json": {
              "type": "string"
            }
          },
          "metadata": {},
          "execution_count": 25
        }
      ]
    },
    {
      "cell_type": "code",
      "source": [
        "# 인덱싱 한글자\n",
        "s = 'hello'\n",
        "s[0]\n",
        "\n",
        "# H E L L O\n",
        "# 0 1 2 3 4 index\n",
        "# -5 -4 -3 -2 -1"
      ],
      "metadata": {
        "colab": {
          "base_uri": "https://localhost:8080/",
          "height": 35
        },
        "id": "sDO6ssQI2txz",
        "outputId": "4eb3cb2e-5dcb-42df-e733-15dddcb5c9c3"
      },
      "execution_count": 27,
      "outputs": [
        {
          "output_type": "execute_result",
          "data": {
            "text/plain": [
              "'h'"
            ],
            "application/vnd.google.colaboratory.intrinsic+json": {
              "type": "string"
            }
          },
          "metadata": {},
          "execution_count": 27
        }
      ]
    },
    {
      "cell_type": "code",
      "source": [
        "# 슬라이싱 여러글자\n",
        "s = 'hello'\n",
        "# s[0:2]  # [시작 : 끝] 0 부터 2 미만\n",
        "# s[0:]   # 끝을 생략하면 끝까지\n",
        "# s[:-1]  # 시작을 생략하면 처음부터\n"
      ],
      "metadata": {
        "id": "IY27_Me82_pK"
      },
      "execution_count": 26,
      "outputs": []
    }
  ]
}