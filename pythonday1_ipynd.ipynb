{
  "nbformat": 4,
  "nbformat_minor": 0,
  "metadata": {
    "colab": {
      "name": "pythonday1.ipynd",
      "provenance": [],
      "authorship_tag": "ABX9TyP7B1mht6Qtq4hi45ow6U4I",
      "include_colab_link": true
    },
    "kernelspec": {
      "name": "python3",
      "display_name": "Python 3"
    },
    "language_info": {
      "name": "python"
    }
  },
  "cells": [
    {
      "cell_type": "markdown",
      "metadata": {
        "id": "view-in-github",
        "colab_type": "text"
      },
      "source": [
        "<a href=\"https://colab.research.google.com/github/murur/pythonbasic-1month-/blob/main/pythonday1_ipynd.ipynb\" target=\"_parent\"><img src=\"https://colab.research.google.com/assets/colab-badge.svg\" alt=\"Open In Colab\"/></a>"
      ]
    },
    {
      "cell_type": "code",
      "execution_count": 2,
      "metadata": {
        "id": "iZk3vuWDc7sf"
      },
      "outputs": [],
      "source": [
        "# 파이썬이란\n",
        "# 1. 인터프리터 언어이다. 한줄한줄 실행한 결과를 바로 볼수있다.\n",
        "# 2. 플랫폼에 독립적이다. \n",
        "# 3. 객채지향 언어이다. 객체를 기반으로 정보은닉 상속 등등의 개념을 지원한다.\n",
        "# 4. 동적 타이핑 언어이다. 실행 중에 처리할수 있는 작업을 동적 작업이라고 하고 파이썬은 이것을 지원한다.\n",
        "# 5. 개발속도가 빠르다."
      ]
    }
  ]
}