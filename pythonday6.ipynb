{
  "nbformat": 4,
  "nbformat_minor": 0,
  "metadata": {
    "colab": {
      "name": "pythonday6.ipynb",
      "provenance": [],
      "authorship_tag": "ABX9TyMRDzTjHeDslfYBhwi1TpMM",
      "include_colab_link": true
    },
    "kernelspec": {
      "name": "python3",
      "display_name": "Python 3"
    },
    "language_info": {
      "name": "python"
    }
  },
  "cells": [
    {
      "cell_type": "markdown",
      "metadata": {
        "id": "view-in-github",
        "colab_type": "text"
      },
      "source": [
        "<a href=\"https://colab.research.google.com/github/murur/pythonbasic-1month-/blob/main/pythonday6.ipynb\" target=\"_parent\"><img src=\"https://colab.research.google.com/assets/colab-badge.svg\" alt=\"Open In Colab\"/></a>"
      ]
    },
    {
      "cell_type": "code",
      "execution_count": 4,
      "metadata": {
        "colab": {
          "base_uri": "https://localhost:8080/"
        },
        "id": "OnEcJiOeeRtP",
        "outputId": "77b2897f-5e7d-4419-b045-07f3ae508e8d"
      },
      "outputs": [
        {
          "output_type": "stream",
          "name": "stdout",
          "text": [
            "우편번호 12345\n",
            "서울시 영등포구 여의도동\n"
          ]
        }
      ],
      "source": [
        "def address():\n",
        "  str = '우편번호 12345\\n'\n",
        "  str += '서울시 영등포구 여의도동'\n",
        "  return str\n",
        "\n",
        "print(address())"
      ]
    },
    {
      "cell_type": "code",
      "source": [
        "def calculator(*args): # 가변 매개수\n",
        "  return sum(args), sum(args)/len(args), max(args), min(args) # 1개의 튜플로 리턴\n",
        "\n",
        "a,b,c,d = calculator(1,2,3,4,5)\n",
        "print(a)\n",
        "print(b)\n",
        "print(c)\n",
        "print(d)"
      ],
      "metadata": {
        "colab": {
          "base_uri": "https://localhost:8080/"
        },
        "id": "BIoa1fKBfp_n",
        "outputId": "9553546e-9f58-4e86-b1ad-7ec49b7c5b6a"
      },
      "execution_count": 3,
      "outputs": [
        {
          "output_type": "stream",
          "name": "stdout",
          "text": [
            "15\n",
            "3.0\n",
            "5\n",
            "1\n"
          ]
        }
      ]
    },
    {
      "cell_type": "code",
      "source": [
        "def charge(energy):\n",
        "  if energy < 0 :\n",
        "    print('0보다 작은 에너지는 충전할수 없습니다.')\n",
        "    return\n",
        "  print('에너지가 충전되었습니다.')\n",
        "\n",
        "charge(100)"
      ],
      "metadata": {
        "colab": {
          "base_uri": "https://localhost:8080/"
        },
        "id": "wJ4TQ29tgTcy",
        "outputId": "245eea9e-128f-44ce-9a05-556557fea92e"
      },
      "execution_count": 2,
      "outputs": [
        {
          "output_type": "stream",
          "name": "stdout",
          "text": [
            "에너지가 충전되었습니다.\n"
          ]
        }
      ]
    },
    {
      "cell_type": "code",
      "source": [
        "# 지역변수 local variable (*****) 와 전역변수 global variable\n",
        "\n",
        "def f():\n",
        "  a=10\n",
        "  print(f'f()내부:{a}')\n",
        "\n",
        "f()\n",
        "\n",
        "print(a)\n",
        "\n",
        "#  함수 안에서 선언한 변수(지역변수)는 함수 안에서만 의미가 있다."
      ],
      "metadata": {
        "colab": {
          "base_uri": "https://localhost:8080/",
          "height": 227
        },
        "id": "A-wipGF2hpAS",
        "outputId": "1051593b-7720-4401-f2bf-367dc7d4d3b2"
      },
      "execution_count": 1,
      "outputs": [
        {
          "output_type": "stream",
          "name": "stdout",
          "text": [
            "f()내부:10\n"
          ]
        },
        {
          "output_type": "error",
          "ename": "NameError",
          "evalue": "ignored",
          "traceback": [
            "\u001b[0;31m---------------------------------------------------------------------------\u001b[0m",
            "\u001b[0;31mNameError\u001b[0m                                 Traceback (most recent call last)",
            "\u001b[0;32m<ipython-input-1-2d77fc4d053d>\u001b[0m in \u001b[0;36m<module>\u001b[0;34m()\u001b[0m\n\u001b[1;32m      7\u001b[0m \u001b[0mf\u001b[0m\u001b[0;34m(\u001b[0m\u001b[0;34m)\u001b[0m\u001b[0;34m\u001b[0m\u001b[0;34m\u001b[0m\u001b[0m\n\u001b[1;32m      8\u001b[0m \u001b[0;34m\u001b[0m\u001b[0m\n\u001b[0;32m----> 9\u001b[0;31m \u001b[0mprint\u001b[0m\u001b[0;34m(\u001b[0m\u001b[0ma\u001b[0m\u001b[0;34m)\u001b[0m\u001b[0;34m\u001b[0m\u001b[0;34m\u001b[0m\u001b[0m\n\u001b[0m",
            "\u001b[0;31mNameError\u001b[0m: name 'a' is not defined"
          ]
        }
      ]
    },
    {
      "cell_type": "code",
      "source": [
        "# 전역변수 global variable\n",
        "b = 10\n",
        "def f():\n",
        "  print(f'f()내부:{b}')\n",
        "\n",
        "f()\n",
        "\n",
        "print(b)"
      ],
      "metadata": {
        "colab": {
          "base_uri": "https://localhost:8080/"
        },
        "id": "9ibdMNhCjMoI",
        "outputId": "fb7b4dc7-935d-4781-d550-3575787b4832"
      },
      "execution_count": 4,
      "outputs": [
        {
          "output_type": "stream",
          "name": "stdout",
          "text": [
            "f()내부:10\n",
            "10\n"
          ]
        }
      ]
    },
    {
      "cell_type": "code",
      "source": [
        "def vending_machine(money):\n",
        "  price = 700\n",
        "  cups = money//price\n",
        "  for drink in range(cups + 1):\n",
        "    coin = money - price * drink\n",
        "    print(f'음료수 = {drink}개, 잔돈{coin}원')\n",
        "\n",
        "vending_machine(3000)\n"
      ],
      "metadata": {
        "colab": {
          "base_uri": "https://localhost:8080/"
        },
        "id": "6l-3sU65kH-W",
        "outputId": "895faf32-73aa-40b9-82c8-eccb46d56fe0"
      },
      "execution_count": 19,
      "outputs": [
        {
          "output_type": "stream",
          "name": "stdout",
          "text": [
            "음료수 = 0개, 잔돈3000원\n",
            "음료수 = 1개, 잔돈2300원\n",
            "음료수 = 2개, 잔돈1600원\n",
            "음료수 = 3개, 잔돈900원\n",
            "음료수 = 4개, 잔돈200원\n"
          ]
        }
      ]
    },
    {
      "cell_type": "code",
      "source": [
        "\n",
        "def get_average(marks):\n",
        "  sum = 0\n",
        "  for mark in marks:\n",
        "    sum += marks[mark]\n",
        "  average = sum / len(marks)\n",
        "  return average\n",
        "\n",
        "marks = {'국어':90, '영어':80, '수학':85}\n",
        "\n",
        "average = get_average(marks)\n",
        "\n",
        "print(f'평균은 {average}점 입니다.')"
      ],
      "metadata": {
        "colab": {
          "base_uri": "https://localhost:8080/"
        },
        "id": "wXnm65fGsc0u",
        "outputId": "57f7a8a2-09ca-4910-bb88-0db4eb98dafc"
      },
      "execution_count": 32,
      "outputs": [
        {
          "output_type": "stream",
          "name": "stdout",
          "text": [
            "평균은 85.0점 입니다.\n"
          ]
        }
      ]
    }
  ]
}