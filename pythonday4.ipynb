{
  "nbformat": 4,
  "nbformat_minor": 0,
  "metadata": {
    "colab": {
      "name": "pythonday4.ipynb",
      "provenance": [],
      "authorship_tag": "ABX9TyPwblnsQBs3na8glcDPM63j",
      "include_colab_link": true
    },
    "kernelspec": {
      "name": "python3",
      "display_name": "Python 3"
    },
    "language_info": {
      "name": "python"
    }
  },
  "cells": [
    {
      "cell_type": "markdown",
      "metadata": {
        "id": "view-in-github",
        "colab_type": "text"
      },
      "source": [
        "<a href=\"https://colab.research.google.com/github/murur/pythonbasic-1month-/blob/main/pythonday4.ipynb\" target=\"_parent\"><img src=\"https://colab.research.google.com/assets/colab-badge.svg\" alt=\"Open In Colab\"/></a>"
      ]
    },
    {
      "cell_type": "code",
      "execution_count": 3,
      "metadata": {
        "colab": {
          "base_uri": "https://localhost:8080/"
        },
        "id": "qFOtkIOTdvwn",
        "outputId": "83ee271f-191a-4aba-c24b-83edd517a5bc"
      },
      "outputs": [
        {
          "output_type": "stream",
          "name": "stdout",
          "text": [
            "양수\n",
            "양수\n"
          ]
        }
      ],
      "source": [
        "# 조건문\n",
        "\n",
        "# if - 특정 조건을 만족하는지 여부에 따라 실행하는 코드가 달라져야 할때 사용된다.\n",
        "\n",
        "a = 6\n",
        "if a >0:\n",
        "  print('양수')\n",
        "\n",
        "if True:\n",
        "  print('양수')\n",
        "\n"
      ]
    },
    {
      "cell_type": "code",
      "source": [
        "# if else\n",
        "a = -5\n",
        "if a > 0:\n",
        "  print('양수')\n",
        "else:\n",
        "  print('음수')"
      ],
      "metadata": {
        "colab": {
          "base_uri": "https://localhost:8080/"
        },
        "id": "kXSL0gXDfPSR",
        "outputId": "8fc23b27-9d49-4cda-ff09-27e1f0981c73"
      },
      "execution_count": 5,
      "outputs": [
        {
          "output_type": "stream",
          "name": "stdout",
          "text": [
            "음수\n"
          ]
        }
      ]
    },
    {
      "cell_type": "code",
      "source": [
        "age = int(input('몇 살입니까? >>>'))\n",
        "if age >= 20:\n",
        "  print('성인')\n",
        "else:\n",
        "  print('미성년자')"
      ],
      "metadata": {
        "colab": {
          "base_uri": "https://localhost:8080/"
        },
        "id": "q5AZEQwNfj75",
        "outputId": "7ea4ce42-502a-438b-97dc-c2ee9b01a7ab"
      },
      "execution_count": 7,
      "outputs": [
        {
          "output_type": "stream",
          "name": "stdout",
          "text": [
            "몇 살입니까? >>>19\n",
            "미성년자\n"
          ]
        }
      ]
    },
    {
      "cell_type": "code",
      "source": [
        "# if - elif\n",
        "\n",
        "important = 40\n",
        "if important >= 100:\n",
        "  print('상')\n",
        "else:\n",
        "  if important >= 50:\n",
        "    print('중')\n",
        "  else:\n",
        "    print('하')"
      ],
      "metadata": {
        "colab": {
          "base_uri": "https://localhost:8080/"
        },
        "id": "VrgiqIqqgDda",
        "outputId": "6faeaacd-0d31-4bc6-88e8-2952c0f8b7b0"
      },
      "execution_count": 11,
      "outputs": [
        {
          "output_type": "stream",
          "name": "stdout",
          "text": [
            "하\n"
          ]
        }
      ]
    },
    {
      "cell_type": "code",
      "source": [
        "important = 40\n",
        "\n",
        "if important >= 100:\n",
        "  print('상')\n",
        "elif important >= 50:\n",
        "  print('중')\n",
        "else:\n",
        "  print('하')"
      ],
      "metadata": {
        "colab": {
          "base_uri": "https://localhost:8080/"
        },
        "id": "ARieTUeWhUN7",
        "outputId": "19d14c42-b09d-429f-e0a1-e7703845db62"
      },
      "execution_count": 13,
      "outputs": [
        {
          "output_type": "stream",
          "name": "stdout",
          "text": [
            "하\n"
          ]
        }
      ]
    },
    {
      "cell_type": "code",
      "source": [
        "score = 75\n",
        "\n",
        "if score >= 90:\n",
        "  print('A')\n",
        "elif score >= 80:\n",
        "  print('B')\n",
        "elif score >= 70:\n",
        "  print('C')\n",
        "elif score >= 60:\n",
        "  print('D')\n",
        "else:\n",
        "  print('F')"
      ],
      "metadata": {
        "colab": {
          "base_uri": "https://localhost:8080/"
        },
        "id": "TBtUcbfahusR",
        "outputId": "63b7429a-9269-4f16-80e5-7e9973d350f3"
      },
      "execution_count": 15,
      "outputs": [
        {
          "output_type": "stream",
          "name": "stdout",
          "text": [
            "C\n"
          ]
        }
      ]
    },
    {
      "cell_type": "code",
      "source": [
        "score = int(input('점수를 입력하세요 >>>'))\n",
        "\n",
        "if score >= 90:\n",
        "  print(f'점수는 {score}점이고, 학점은 A학점입니다')\n",
        "elif score >= 80:\n",
        "  print(f'점수는 {score}점이고, 학점은 B학점입니다')\n",
        "elif score >= 70:\n",
        "  print(f'점수는 {score}점이고, 학점은 C학점입니다')\n",
        "elif score >= 60:\n",
        "  print(f'점수는 {score}점이고, 학점은 D학점입니다')\n",
        "else:\n",
        "  print(f'점수는 {score}점이고, 학점은 F학점입니다')\n"
      ],
      "metadata": {
        "colab": {
          "base_uri": "https://localhost:8080/"
        },
        "id": "zF63hpodiW6J",
        "outputId": "770bfa70-bd1f-4ac5-88e6-93a8381493db"
      },
      "execution_count": 22,
      "outputs": [
        {
          "output_type": "stream",
          "name": "stdout",
          "text": [
            "점수를 입력하세요 >>>88\n",
            "점수는 88점이고, 학점은 B학점입니다\n"
          ]
        }
      ]
    },
    {
      "cell_type": "code",
      "source": [
        "score = int(input('점수를 입력하세요 >>>'))\n",
        "\n",
        "if score >= 90:\n",
        "  hak = 'A'\n",
        "elif score >= 80:\n",
        "  hak = 'B'\n",
        "elif score >= 70:\n",
        "  hak = 'C'\n",
        "elif score >= 60:\n",
        "  hak = 'D'\n",
        "else:\n",
        "  hak = 'F'\n",
        "\n",
        "print(f'점수는 {score}점이고, 학점은 {hak}학점입니다')\n"
      ],
      "metadata": {
        "colab": {
          "base_uri": "https://localhost:8080/"
        },
        "id": "8T3WlxT_l8LS",
        "outputId": "07a2c660-3826-4191-8385-114f92f7d07a"
      },
      "execution_count": 29,
      "outputs": [
        {
          "output_type": "stream",
          "name": "stdout",
          "text": [
            "점수를 입력하세요 >>>99\n",
            "점수는 99점이고, 학점은 A학점입니다\n"
          ]
        }
      ]
    },
    {
      "cell_type": "code",
      "source": [
        "num = int(input('정수를 입력하세요 >>>'))\n",
        "\n",
        "if num % 3 == 0:\n",
        "  print(f'{num}는 3의 배수입니다')\n",
        "else:\n",
        "  print(f'{num}는 3의 배수가 아닙니다')"
      ],
      "metadata": {
        "colab": {
          "base_uri": "https://localhost:8080/"
        },
        "id": "gljPjaaci8zt",
        "outputId": "73e19d60-6734-4def-859a-eba3a69b5d5d"
      },
      "execution_count": 40,
      "outputs": [
        {
          "output_type": "stream",
          "name": "stdout",
          "text": [
            "정수를 입력하세요 >>>98\n",
            "98는 3의 배수가 아닙니다\n"
          ]
        }
      ]
    },
    {
      "cell_type": "code",
      "source": [
        "a = int(input('정수1 입력 >>>'))\n",
        "b = int(input('정수2 입력 >>>'))\n",
        "c = int(input('정수3 입력 >>>'))\n",
        "\n",
        "if a > b and b > c:\n",
        "  result = a\n",
        "elif c > b and b > a:\n",
        "  result = c\n",
        "else:\n",
        "  result = b\n",
        "\n",
        "print(f'가장큰수는{result}입니다.')"
      ],
      "metadata": {
        "colab": {
          "base_uri": "https://localhost:8080/"
        },
        "id": "XcP9myXSkeid",
        "outputId": "0b5ed2cd-9cbe-4b59-a9ba-7607364a6ece"
      },
      "execution_count": 47,
      "outputs": [
        {
          "output_type": "stream",
          "name": "stdout",
          "text": [
            "정수1 입력 >>>3\n",
            "정수2 입력 >>>3\n",
            "정수3 입력 >>>2\n",
            "가장큰수는3입니다.\n"
          ]
        }
      ]
    },
    {
      "cell_type": "code",
      "source": [
        "no1 = int(input('정수1입력'))\n",
        "no2 = int(input('정수2입력'))\n",
        "no3 = int(input('정수3입력'))\n",
        "\n",
        "print(f'가장큰수는{max(no1,no2,no3)}입니다.')"
      ],
      "metadata": {
        "colab": {
          "base_uri": "https://localhost:8080/"
        },
        "id": "gZ22xjm5sBfi",
        "outputId": "7e78b60f-c246-422e-846c-5e584673f987"
      },
      "execution_count": 49,
      "outputs": [
        {
          "output_type": "stream",
          "name": "stdout",
          "text": [
            "정수1입력2\n",
            "정수2입력3\n",
            "정수3입력6\n",
            "가장큰수는6입니다.\n"
          ]
        }
      ]
    },
    {
      "cell_type": "code",
      "source": [
        "num = input('차량번호를 입력하세요 >>>')\n",
        "\n",
        "a = int(num[-1])\n",
        "\n",
        "if a % 2 == 0:\n",
        "  result = '운행가능'\n",
        "else:\n",
        "  result = '운행 불가능'\n",
        "\n",
        "print(f'차량번호 {num}는 오늘 {result}합니다')"
      ],
      "metadata": {
        "colab": {
          "base_uri": "https://localhost:8080/"
        },
        "id": "Bqv_GWzhk2er",
        "outputId": "9704f02d-f9cc-4a80-ba4b-ca87d7adb8a7"
      },
      "execution_count": 64,
      "outputs": [
        {
          "output_type": "stream",
          "name": "stdout",
          "text": [
            "차량번호를 입력하세요 >>>123거1234\n",
            "차량번호 123거1234는 오늘 운행가능합니다\n"
          ]
        }
      ]
    },
    {
      "cell_type": "code",
      "source": [
        "# 반복문 \n",
        "# while  - 반복횟수를 정확히 모를 때,        해질때까지 운동장을 돌자\n",
        "# for    - 반복횟수를 정확히 알 때 (*****)   운동장을 10바퀴 돌자\n",
        "\n",
        "n = 1\n",
        "while n <= 10:\n",
        "  print(f'{n} : hello python')\n",
        "  n += 1"
      ],
      "metadata": {
        "colab": {
          "base_uri": "https://localhost:8080/"
        },
        "id": "dfSfEODkuvtD",
        "outputId": "09e2e103-d25d-4e74-d3f6-21c71e214231"
      },
      "execution_count": 87,
      "outputs": [
        {
          "output_type": "stream",
          "name": "stdout",
          "text": [
            "1 : hello python\n",
            "2 : hello python\n",
            "3 : hello python\n",
            "4 : hello python\n",
            "5 : hello python\n",
            "6 : hello python\n",
            "7 : hello python\n",
            "8 : hello python\n",
            "9 : hello python\n",
            "10 : hello python\n"
          ]
        }
      ]
    },
    {
      "cell_type": "code",
      "source": [
        "n = 10\n",
        "while n >= 1:\n",
        "  print(n)\n",
        "  n -= 1"
      ],
      "metadata": {
        "id": "3mD5BqNh28MD"
      },
      "execution_count": null,
      "outputs": []
    },
    {
      "cell_type": "code",
      "source": [
        "my_list = []\n",
        "\n",
        "n = int(input('정수를 입력하세요(종료는 0입니다. >>> '))\n",
        "\n",
        "while n != 0:\n",
        "  my_list.append(n)\n",
        "  n = int(input('정수를 입력하세요(종료는 0입니다. >>> '))\n",
        "\n",
        "print(my_list)"
      ],
      "metadata": {
        "id": "3IQM8UOb2862"
      },
      "execution_count": null,
      "outputs": []
    },
    {
      "cell_type": "code",
      "source": [
        "day = 1\n",
        "while day <=5:\n",
        "  hour = 1\n",
        "  while hour <=3:\n",
        "    print(day,'일차', hour, '시간')\n",
        "    hour += 1\n",
        "  day += 1"
      ],
      "metadata": {
        "id": "UI2pGWHt3z2K"
      },
      "execution_count": null,
      "outputs": []
    },
    {
      "cell_type": "code",
      "source": [
        "dan = 2\n",
        "while dan <=9:\n",
        "  no = 1\n",
        "  while no <=9:\n",
        "    print(f'{dan} * {no} = {dan * no}')\n",
        "    no +=1\n",
        "  dan +=1"
      ],
      "metadata": {
        "id": "rIXk-Y_P4q1m"
      },
      "execution_count": null,
      "outputs": []
    },
    {
      "cell_type": "code",
      "source": [
        "no = int(input(\"정수를 입력하세요 >>>\"))\n",
        "cnt = 1\n",
        "\n",
        "if no <= 0:\n",
        "  print(\"잘못된 입력입니다\")\n",
        "else:\n",
        "  while cnt <= no:\n",
        "    print(f'{cnt}번째 Hello')\n",
        "    cnt += 1\n"
      ],
      "metadata": {
        "colab": {
          "base_uri": "https://localhost:8080/"
        },
        "id": "HWSlFDZK5jgG",
        "outputId": "235272f3-041c-4e8e-9672-49633db95184"
      },
      "execution_count": 120,
      "outputs": [
        {
          "output_type": "stream",
          "name": "stdout",
          "text": [
            "정수를 입력하세요 >>>5\n",
            "1번째 Hello\n",
            "2번째 Hello\n",
            "3번째 Hello\n",
            "4번째 Hello\n",
            "5번째 Hello\n"
          ]
        }
      ]
    },
    {
      "cell_type": "code",
      "source": [
        "n = 1\n",
        "while n <= 100:\n",
        "  if n % 7 ==0:\n",
        "    print(n)\n",
        "  n +=1"
      ],
      "metadata": {
        "colab": {
          "base_uri": "https://localhost:8080/"
        },
        "id": "x-KVslkw-Yh4",
        "outputId": "04623049-465f-4a32-e9d7-7ddfd08ac5ae"
      },
      "execution_count": 133,
      "outputs": [
        {
          "output_type": "stream",
          "name": "stdout",
          "text": [
            "7\n",
            "14\n",
            "21\n",
            "28\n",
            "35\n",
            "42\n",
            "49\n",
            "56\n",
            "63\n",
            "70\n",
            "77\n",
            "84\n",
            "91\n",
            "98\n"
          ]
        }
      ]
    }
  ]
}