{
  "nbformat": 4,
  "nbformat_minor": 0,
  "metadata": {
    "colab": {
      "name": "pythonday5.ipynb",
      "provenance": [],
      "collapsed_sections": [],
      "authorship_tag": "ABX9TyOI9KTS3kR2YbdUssWG+KYN",
      "include_colab_link": true
    },
    "kernelspec": {
      "name": "python3",
      "display_name": "Python 3"
    },
    "language_info": {
      "name": "python"
    }
  },
  "cells": [
    {
      "cell_type": "markdown",
      "metadata": {
        "id": "view-in-github",
        "colab_type": "text"
      },
      "source": [
        "<a href=\"https://colab.research.google.com/github/murur/pythonbasic-1month-/blob/main/pythonday5.ipynb\" target=\"_parent\"><img src=\"https://colab.research.google.com/assets/colab-badge.svg\" alt=\"Open In Colab\"/></a>"
      ]
    },
    {
      "cell_type": "code",
      "source": [
        "# p116 for문\n",
        "\n",
        "\n",
        "for n in [1,2,3]:\n",
        "  print(n)"
      ],
      "metadata": {
        "colab": {
          "base_uri": "https://localhost:8080/"
        },
        "id": "lWsTX0TSTytV",
        "outputId": "007c733a-d148-437d-a4df-64f45ce22720"
      },
      "execution_count": 39,
      "outputs": [
        {
          "output_type": "stream",
          "name": "stdout",
          "text": [
            "1\n",
            "2\n",
            "3\n"
          ]
        }
      ]
    },
    {
      "cell_type": "code",
      "source": [
        "n = 1\n",
        "while n in [1,2,3]:\n",
        "  print(n)\n",
        "  n += 1\n"
      ],
      "metadata": {
        "colab": {
          "base_uri": "https://localhost:8080/"
        },
        "id": "2WoiOFXmT0tp",
        "outputId": "a442d9d3-100c-4ca8-87b6-eb5de5df09e1"
      },
      "execution_count": 40,
      "outputs": [
        {
          "output_type": "stream",
          "name": "stdout",
          "text": [
            "1\n",
            "2\n",
            "3\n"
          ]
        }
      ]
    },
    {
      "cell_type": "code",
      "source": [
        "# 반복 가능 객체 (컬렉션)\n",
        "# 시퀀스 자료형 - 문자열 리스트 튜플 range\n",
        "# 비시퀀스 자료형 - 셋, 딕셔너리 (순서가 없다. )\n",
        "\n",
        "for ch in 'Hello':\n",
        "  print(ch)"
      ],
      "metadata": {
        "colab": {
          "base_uri": "https://localhost:8080/"
        },
        "id": "W0gE0urAT050",
        "outputId": "a9ba31a1-965b-4de6-a43e-8baf939208ac"
      },
      "execution_count": 42,
      "outputs": [
        {
          "output_type": "stream",
          "name": "stdout",
          "text": [
            "H\n",
            "e\n",
            "l\n",
            "l\n",
            "o\n"
          ]
        }
      ]
    },
    {
      "cell_type": "code",
      "source": [
        "# for 문과 list\n",
        "for item in ['가위','바위','보']:\n",
        "  print(item)"
      ],
      "metadata": {
        "colab": {
          "base_uri": "https://localhost:8080/"
        },
        "id": "P5PDkza9T3W3",
        "outputId": "99033783-6f08-45ea-c0dc-6e74b4562071"
      },
      "execution_count": 43,
      "outputs": [
        {
          "output_type": "stream",
          "name": "stdout",
          "text": [
            "가위\n",
            "바위\n",
            "보\n"
          ]
        }
      ]
    },
    {
      "cell_type": "code",
      "execution_count": 3,
      "metadata": {
        "id": "_EvPWsg2LY2X",
        "colab": {
          "base_uri": "https://localhost:8080/"
        },
        "outputId": "15b8c455-107e-4297-c03b-b12278d5de77"
      },
      "outputs": [
        {
          "output_type": "stream",
          "name": "stdout",
          "text": [
            "spring\n",
            "summer\n",
            "autumn\n",
            "winter\n"
          ]
        }
      ],
      "source": [
        "for season in ('spring','summer','autumn','winter'):\n",
        "  print(season)"
      ]
    },
    {
      "cell_type": "code",
      "source": [
        "# for문과 range()\n",
        "\n",
        "\n",
        "# range(5) # 0부터 5미만까지 즉 0부터 4까지\n",
        "# range(2,10) # 2부터 10미만까지 즉 2부터 9 까지\n",
        "\n",
        "range(2,10)"
      ],
      "metadata": {
        "colab": {
          "base_uri": "https://localhost:8080/"
        },
        "id": "tBObijg7OMYw",
        "outputId": "55de928b-ffd9-4c68-8e5f-c2387a3223e8"
      },
      "execution_count": 6,
      "outputs": [
        {
          "output_type": "execute_result",
          "data": {
            "text/plain": [
              "range(2, 10)"
            ]
          },
          "metadata": {},
          "execution_count": 6
        }
      ]
    },
    {
      "cell_type": "code",
      "source": [
        "print(list(range(2,10)))"
      ],
      "metadata": {
        "colab": {
          "base_uri": "https://localhost:8080/"
        },
        "id": "9drbMs79OubW",
        "outputId": "1a1db721-8678-405d-8b8e-12c670fb2d52"
      },
      "execution_count": 8,
      "outputs": [
        {
          "output_type": "stream",
          "name": "stdout",
          "text": [
            "[2, 3, 4, 5, 6, 7, 8, 9]\n"
          ]
        }
      ]
    },
    {
      "cell_type": "code",
      "source": [
        "for n in (1,2,3,4,5,6,7,8,9,10):\n",
        " print(n)"
      ],
      "metadata": {
        "colab": {
          "base_uri": "https://localhost:8080/"
        },
        "id": "VLwvbccKO8Lz",
        "outputId": "078c5bbf-203e-4a07-da30-335750176040"
      },
      "execution_count": 13,
      "outputs": [
        {
          "output_type": "stream",
          "name": "stdout",
          "text": [
            "1\n",
            "2\n",
            "3\n",
            "4\n",
            "5\n",
            "6\n",
            "7\n",
            "8\n",
            "9\n",
            "10\n"
          ]
        }
      ]
    },
    {
      "cell_type": "code",
      "source": [
        "for n in range(1,11):\n",
        "  print(n)"
      ],
      "metadata": {
        "colab": {
          "base_uri": "https://localhost:8080/"
        },
        "id": "f5yrJjyWPN1x",
        "outputId": "31642eb3-bb88-40b8-ceca-836506bf7c5a"
      },
      "execution_count": 17,
      "outputs": [
        {
          "output_type": "stream",
          "name": "stdout",
          "text": [
            "1\n",
            "2\n",
            "3\n",
            "4\n",
            "5\n",
            "6\n",
            "7\n",
            "8\n",
            "9\n",
            "10\n"
          ]
        }
      ]
    },
    {
      "cell_type": "code",
      "source": [
        "#for 문과 set #set은 순서가 따로 없다\n",
        "for item in {'가위','바위','보'}:\n",
        "  print(item)"
      ],
      "metadata": {
        "colab": {
          "base_uri": "https://localhost:8080/"
        },
        "id": "-jQNvTnsPalL",
        "outputId": "b99c712c-e724-4c81-a32e-b44173926075"
      },
      "execution_count": 19,
      "outputs": [
        {
          "output_type": "stream",
          "name": "stdout",
          "text": [
            "바위\n",
            "보\n",
            "가위\n"
          ]
        }
      ]
    },
    {
      "cell_type": "code",
      "source": [
        "#for 문과 딕셔너리\n",
        "\n",
        "person = {\n",
        "    'name':'에밀리',\n",
        "    'age':20\n",
        "}\n",
        "\n",
        "for item in person:\n",
        "  print(item, person[item])"
      ],
      "metadata": {
        "colab": {
          "base_uri": "https://localhost:8080/"
        },
        "id": "gFn4xQP4P28n",
        "outputId": "197359ff-bf91-4d3f-dbdc-84f39bdefcb9"
      },
      "execution_count": 23,
      "outputs": [
        {
          "output_type": "stream",
          "name": "stdout",
          "text": [
            "name 에밀리\n",
            "age 20\n"
          ]
        }
      ]
    },
    {
      "cell_type": "code",
      "source": [
        "# 01\n",
        "\n",
        "for n in range(1,6):\n",
        "  print(n)"
      ],
      "metadata": {
        "colab": {
          "base_uri": "https://localhost:8080/"
        },
        "id": "OQGIfFcFQajM",
        "outputId": "fe53d105-887f-40cb-9c3a-419d73210f73"
      },
      "execution_count": 28,
      "outputs": [
        {
          "output_type": "stream",
          "name": "stdout",
          "text": [
            "1\n",
            "2\n",
            "3\n",
            "4\n",
            "5\n"
          ]
        }
      ]
    },
    {
      "cell_type": "code",
      "source": [
        "# 03\n",
        "\n",
        "num = int(input('임의의 양수를 입력하세요 >>>'))\n",
        "\n",
        "sum = 0\n",
        "for n in range(1,num+1):\n",
        "  sum += n\n",
        "\n",
        "print(f'1부터 {num}사이 모든 정수의 합계는{sum}입니다.')"
      ],
      "metadata": {
        "colab": {
          "base_uri": "https://localhost:8080/"
        },
        "id": "sVRtLwZRQvCc",
        "outputId": "1ba5dc43-0c40-4f83-d959-ed00cbb312b0"
      },
      "execution_count": 46,
      "outputs": [
        {
          "output_type": "stream",
          "name": "stdout",
          "text": [
            "임의의 양수를 입력하세요 >>>5\n",
            "1부터 5사이 모든 정수의 합계는15입니다.\n"
          ]
        }
      ]
    },
    {
      "cell_type": "code",
      "source": [
        "# 04\n",
        "\n",
        "no = int(input(f'몇 개의 과일을 보관할까요? >>>'))\n",
        "\n",
        "basket = []\n",
        "\n",
        "for n in range(no):\n",
        "  fruit = input(f'{n+1}번째 과일을 입력하세요 >>>')\n",
        "  basket.append(fruit)\n",
        "\n",
        "print(f'입력받은 과일들은 {basket}입니다')"
      ],
      "metadata": {
        "colab": {
          "base_uri": "https://localhost:8080/"
        },
        "id": "RTWvScq1SZoi",
        "outputId": "44b39a6a-3638-47d3-8211-fd97ecc4ac3c"
      },
      "execution_count": 38,
      "outputs": [
        {
          "output_type": "stream",
          "name": "stdout",
          "text": [
            "몇 개의 과일을 보관할까요? >>>5\n",
            "1번째 과일을 입력하세요 >>>사과\n",
            "2번째 과일을 입력하세요 >>>바나나\n",
            "3번째 과일을 입력하세요 >>>체리\n",
            "4번째 과일을 입력하세요 >>>오렌지\n",
            "5번째 과일을 입력하세요 >>>망고\n",
            "입력받은 과일들은 ['사과', '바나나', '체리', '오렌지', '망고']입니다\n"
          ]
        }
      ]
    },
    {
      "cell_type": "code",
      "source": [
        "# p 134   break\n",
        "\n",
        "n = 1\n",
        "while n <= 10:\n",
        "  print(n)\n",
        "\n",
        "  n += 1\n"
      ],
      "metadata": {
        "colab": {
          "base_uri": "https://localhost:8080/"
        },
        "id": "WsZwYJKRTiwl",
        "outputId": "84a15fbd-384a-453c-bbcd-4022e9bc9ba8"
      },
      "execution_count": 50,
      "outputs": [
        {
          "output_type": "stream",
          "name": "stdout",
          "text": [
            "1\n",
            "2\n",
            "3\n",
            "4\n",
            "5\n",
            "6\n",
            "7\n",
            "8\n",
            "9\n",
            "10\n"
          ]
        }
      ]
    },
    {
      "cell_type": "code",
      "source": [
        "n = 1\n",
        "while True:\n",
        "  print(n)\n",
        "  if n == 10:\n",
        "    break\n",
        "  n +=1"
      ],
      "metadata": {
        "colab": {
          "base_uri": "https://localhost:8080/"
        },
        "id": "Pfeph-ccUttw",
        "outputId": "c621ff1b-76f4-45a9-b3b6-d07ab0e09223"
      },
      "execution_count": 54,
      "outputs": [
        {
          "output_type": "stream",
          "name": "stdout",
          "text": [
            "1\n",
            "2\n",
            "3\n",
            "4\n",
            "5\n",
            "6\n",
            "7\n",
            "8\n",
            "9\n",
            "10\n"
          ]
        }
      ]
    },
    {
      "cell_type": "code",
      "source": [
        "# 158p continue\n",
        "\n",
        "total = 0;\n",
        "for a in range(1,101):\n",
        "  if a % 3 ==0:\n",
        "    continue\n",
        "  total += a\n",
        "\n",
        "print(total)"
      ],
      "metadata": {
        "colab": {
          "base_uri": "https://localhost:8080/"
        },
        "id": "_n2R3DlFVNLQ",
        "outputId": "333d7ad7-0612-47be-d7ae-cd35cc1bcea3"
      },
      "execution_count": 57,
      "outputs": [
        {
          "output_type": "stream",
          "name": "stdout",
          "text": [
            "3367\n"
          ]
        }
      ]
    },
    {
      "cell_type": "code",
      "source": [
        "coin = 10000\n",
        "\n",
        "while True:\n",
        "  print(f'현재 {coin}원이 있습니다.')\n",
        "\n",
        "  if coin == 0:\n",
        "    break\n",
        "\n",
        "  pay = int(input('사용할 금액 입력 >>>'))\n",
        "\n",
        "  if pay <= 0:\n",
        "    print('0 이하의 금액은 사용할수 없습니다.')\n",
        "  elif pay > coin:\n",
        "    print(f'{pay - coin}원이 부족합니다')\n",
        "  else:\n",
        "    coin -= pay\n"
      ],
      "metadata": {
        "colab": {
          "base_uri": "https://localhost:8080/"
        },
        "id": "CbDvIL01YkAa",
        "outputId": "f9f2e987-bdab-48a4-f637-61a2ac943a69"
      },
      "execution_count": 61,
      "outputs": [
        {
          "output_type": "stream",
          "name": "stdout",
          "text": [
            "현재 10000원이 있습니다.\n",
            "사용할 금액 입력 >>>5000\n",
            "현재 5000원이 있습니다.\n",
            "사용할 금액 입력 >>>-5000\n",
            "0 이하의 금액은 사용할수 없습니다.\n",
            "현재 5000원이 있습니다.\n",
            "사용할 금액 입력 >>>6000\n",
            "1000원이 부족합니다\n",
            "현재 5000원이 있습니다.\n",
            "사용할 금액 입력 >>>4000\n",
            "현재 1000원이 있습니다.\n",
            "사용할 금액 입력 >>>1000\n",
            "현재 0원이 있습니다.\n"
          ]
        }
      ]
    },
    {
      "cell_type": "code",
      "source": [
        "while True:\n",
        "  score = int(input('이번 영화의 평점을 입력하세요 >>>'))\n",
        "\n",
        "  if score > 5 or score <= 0:\n",
        "    print('평점은 1~5 사이만 입력할 수 있습니다.')\n",
        "  else:\n",
        "    print('평점:', '★'*score)\n",
        "    break"
      ],
      "metadata": {
        "colab": {
          "base_uri": "https://localhost:8080/"
        },
        "id": "QuVDRm6sa2xV",
        "outputId": "c0135272-a330-44b7-f4df-9440b63a78bf"
      },
      "execution_count": 67,
      "outputs": [
        {
          "output_type": "stream",
          "name": "stdout",
          "text": [
            "이번 영화의 평점을 입력하세요 >>>10\n",
            "평점은 1~5 사이만 입력할 수 있습니다.\n",
            "이번 영화의 평점을 입력하세요 >>>-2\n",
            "평점은 1~5 사이만 입력할 수 있습니다.\n",
            "이번 영화의 평점을 입력하세요 >>>5\n",
            "평점: ★★★★★\n"
          ]
        }
      ]
    },
    {
      "cell_type": "code",
      "source": [
        "answer = 'qwerty'\n",
        "\n",
        "no = 1\n",
        "\n",
        "while True:\n",
        "  pw = input('비밀번호를 입력하세요 >>>')\n",
        "\n",
        "  if answer == pw:\n",
        "    print('비밀번호를 맞췄습니다.')\n",
        "    break\n",
        "  \n",
        "  if no == 5:\n",
        "    print('비밀번호 입력 횟수를 초과했습니다.')\n",
        "    break\n",
        "    \n",
        "  no += 1\n",
        "\n",
        "  "
      ],
      "metadata": {
        "colab": {
          "base_uri": "https://localhost:8080/"
        },
        "id": "Ao8cSoD9ccLl",
        "outputId": "ef3beb0b-391e-4cce-d408-b09f287b98f5"
      },
      "execution_count": 69,
      "outputs": [
        {
          "output_type": "stream",
          "name": "stdout",
          "text": [
            "비밀번호를 입력하세요 >>>23123\n",
            "비밀번호를 입력하세요 >>>213213213\n",
            "비밀번호를 입력하세요 >>>21321\n",
            "비밀번호를 입력하세요 >>>32121\n",
            "비밀번호를 입력하세요 >>>2132321\n",
            "비밀번호 입력 횟수를 초과했습니다.\n"
          ]
        }
      ]
    },
    {
      "cell_type": "code",
      "source": [
        "for i in range(2,10):\n",
        "  if i % 2 == 0:\n",
        "    continue\n",
        "  for l in range(1,10):\n",
        "    if l > i:\n",
        "      break\n",
        "    print(f'{i} * {l} = {i*l}')\n",
        "  print()"
      ],
      "metadata": {
        "colab": {
          "base_uri": "https://localhost:8080/"
        },
        "id": "9_-p7rHuf_dH",
        "outputId": "1b813f50-49ce-48ab-a3a8-21dee3294a53"
      },
      "execution_count": 81,
      "outputs": [
        {
          "output_type": "stream",
          "name": "stdout",
          "text": [
            "3 * 1 = 3\n",
            "3 * 2 = 6\n",
            "3 * 3 = 9\n",
            "\n",
            "5 * 1 = 5\n",
            "5 * 2 = 10\n",
            "5 * 3 = 15\n",
            "5 * 4 = 20\n",
            "5 * 5 = 25\n",
            "\n",
            "7 * 1 = 7\n",
            "7 * 2 = 14\n",
            "7 * 3 = 21\n",
            "7 * 4 = 28\n",
            "7 * 5 = 35\n",
            "7 * 6 = 42\n",
            "7 * 7 = 49\n",
            "\n",
            "9 * 1 = 9\n",
            "9 * 2 = 18\n",
            "9 * 3 = 27\n",
            "9 * 4 = 36\n",
            "9 * 5 = 45\n",
            "9 * 6 = 54\n",
            "9 * 7 = 63\n",
            "9 * 8 = 72\n",
            "9 * 9 = 81\n",
            "\n"
          ]
        }
      ]
    },
    {
      "cell_type": "code",
      "source": [
        "# 146 내장함수\n",
        "\n",
        "\n",
        "for item in enumerate(['가위','바위','보']):\n",
        "  print(item)"
      ],
      "metadata": {
        "colab": {
          "base_uri": "https://localhost:8080/"
        },
        "id": "hvagY2UZjs83",
        "outputId": "bf55a365-3b2a-47fd-a197-b12880e4abaa"
      },
      "execution_count": 82,
      "outputs": [
        {
          "output_type": "stream",
          "name": "stdout",
          "text": [
            "(0, '가위')\n",
            "(1, '바위')\n",
            "(2, '보')\n"
          ]
        }
      ]
    },
    {
      "cell_type": "code",
      "source": [
        "for idx, item in enumerate(['가위','바위','보']):\n",
        "  print(idx + 1, item)"
      ],
      "metadata": {
        "colab": {
          "base_uri": "https://localhost:8080/"
        },
        "id": "m0PJosR-nVyQ",
        "outputId": "1484c851-ecaa-4aa5-d67f-dc7837661a66"
      },
      "execution_count": 86,
      "outputs": [
        {
          "output_type": "stream",
          "name": "stdout",
          "text": [
            "1 가위\n",
            "2 바위\n",
            "3 보\n"
          ]
        }
      ]
    },
    {
      "cell_type": "code",
      "source": [
        "# zip()\n",
        "\n",
        "names = ['james','emily','amanda']\n",
        "scores = [60,70,80]\n",
        "\n",
        "for student in zip(names,scores):\n",
        "  print(student)"
      ],
      "metadata": {
        "colab": {
          "base_uri": "https://localhost:8080/"
        },
        "id": "lXHX2VCfq9gS",
        "outputId": "175e47b7-c5b4-4217-ae61-0b486b157a9b"
      },
      "execution_count": 87,
      "outputs": [
        {
          "output_type": "stream",
          "name": "stdout",
          "text": [
            "('james', 60)\n",
            "('emily', 70)\n",
            "('amanda', 80)\n"
          ]
        }
      ]
    },
    {
      "cell_type": "code",
      "source": [
        "names = ['james','emily','amanda']\n",
        "scores = [60,70,80]\n",
        "\n",
        "for name, score in zip(names,scores):\n",
        "  print(f'{name}의 점수는 {score}점입니다.')"
      ],
      "metadata": {
        "colab": {
          "base_uri": "https://localhost:8080/"
        },
        "id": "KyaFvJjIq9vK",
        "outputId": "9d2680b3-e69b-49b7-b5bd-db122f0038e9"
      },
      "execution_count": 88,
      "outputs": [
        {
          "output_type": "stream",
          "name": "stdout",
          "text": [
            "james의 점수는 60점입니다.\n",
            "emily의 점수는 70점입니다.\n",
            "amanda의 점수는 80점입니다.\n"
          ]
        }
      ]
    },
    {
      "cell_type": "code",
      "source": [
        "# p184 사용자 함수 \n",
        "\n",
        "# def 함수명(변수) :\n",
        "#   본문\n",
        "#   return 결과"
      ],
      "metadata": {
        "id": "7sSfXxzsq_sf"
      },
      "execution_count": 89,
      "outputs": []
    },
    {
      "cell_type": "code",
      "source": [
        "# 1 인수 없고 반환 없는 사용자 정의 함수\n",
        "# 2 인수 있고 반환 없는 사용자 정의 함수\n",
        "# 3 인수 없고 반환 있는 사용자 정의 함수\n",
        "# 4 인수 있고 반환 있는 사용자 정의 함수"
      ],
      "metadata": {
        "id": "5oakqPPQrAyQ"
      },
      "execution_count": 90,
      "outputs": []
    },
    {
      "cell_type": "code",
      "source": [
        "# 1 인수 없고 반환 없는 사용자 정의 함수\n",
        "\n",
        "def welcome():\n",
        "  print('Hello World')\n",
        "\n",
        "\n",
        "welcome()  \n"
      ],
      "metadata": {
        "colab": {
          "base_uri": "https://localhost:8080/"
        },
        "id": "OwVeDKaorCKu",
        "outputId": "24f1c40e-bf61-4886-cfef-9e921988f9b6"
      },
      "execution_count": 92,
      "outputs": [
        {
          "output_type": "stream",
          "name": "stdout",
          "text": [
            "Hello Austin\n"
          ]
        }
      ]
    },
    {
      "cell_type": "code",
      "source": [
        "# 2 인수 있고 반환 없는 사용자 정의 함수\n",
        "\n",
        "def welcome(name):\n",
        "  print('Hello', name)\n",
        "\n",
        "\n",
        "welcome('Austin')  "
      ],
      "metadata": {
        "colab": {
          "base_uri": "https://localhost:8080/"
        },
        "id": "-uO5Rgy5rZdJ",
        "outputId": "78586c22-f40f-46da-d768-8b159a67cc38"
      },
      "execution_count": 93,
      "outputs": [
        {
          "output_type": "stream",
          "name": "stdout",
          "text": [
            "Hello Austin\n"
          ]
        }
      ]
    },
    {
      "cell_type": "code",
      "source": [
        "# 3 인수 없고 반환 있는 사용자 정의 함수\n",
        "def welcome():\n",
        "  return 1\n",
        "\n",
        "welcome()"
      ],
      "metadata": {
        "colab": {
          "base_uri": "https://localhost:8080/"
        },
        "id": "aTN81fnfsTVM",
        "outputId": "5faaeb84-102e-4f2e-aaf2-53682ef53e90"
      },
      "execution_count": 94,
      "outputs": [
        {
          "output_type": "execute_result",
          "data": {
            "text/plain": [
              "1"
            ]
          },
          "metadata": {},
          "execution_count": 94
        }
      ]
    },
    {
      "cell_type": "code",
      "source": [
        "# 4 인수 있고 반환 있는 사용자 정의 함수\n",
        "\n",
        "def add(a,b):\n",
        "  return a+b\n",
        "\n",
        "add(3,4)"
      ],
      "metadata": {
        "colab": {
          "base_uri": "https://localhost:8080/"
        },
        "id": "MeCugknFsUOn",
        "outputId": "4179ed7a-0dd1-4def-8925-34d13e0f4bf2"
      },
      "execution_count": 95,
      "outputs": [
        {
          "output_type": "execute_result",
          "data": {
            "text/plain": [
              "7"
            ]
          },
          "metadata": {},
          "execution_count": 95
        }
      ]
    },
    {
      "cell_type": "code",
      "source": [
        "def introduce(name,age):\n",
        "  print(f'내이름은 {name}이고, 나이는 {age}살입니다.')\n",
        "\n",
        "introduce('james', 25)"
      ],
      "metadata": {
        "colab": {
          "base_uri": "https://localhost:8080/"
        },
        "id": "uYp7IoX6syXo",
        "outputId": "f75004c1-f162-41c5-b98d-36822b98afba"
      },
      "execution_count": 96,
      "outputs": [
        {
          "output_type": "stream",
          "name": "stdout",
          "text": [
            "내이름은 james이고, 나이는 25살입니다.\n"
          ]
        }
      ]
    },
    {
      "cell_type": "code",
      "source": [
        "# 가변 매개변수\n",
        "\n",
        "def add2(a,b):\n",
        "  return a+b\n",
        "\n",
        "def add3(a,b,c):\n",
        "  return a+b+c\n",
        "\n",
        "add2(3,4)\n",
        "\n",
        "\n",
        "\n",
        "\n",
        "def add(*args):\n",
        "  sum = 0\n",
        "  for item in args:\n",
        "    sum += item\n",
        "  print(sum)\n",
        "\n",
        "\n",
        "add(1,2,3,4,5,6,7,8,9)"
      ],
      "metadata": {
        "colab": {
          "base_uri": "https://localhost:8080/"
        },
        "id": "K-XRO81wtTtS",
        "outputId": "e95edff1-0e8a-4729-da9a-26e1aba8a369"
      },
      "execution_count": 99,
      "outputs": [
        {
          "output_type": "stream",
          "name": "stdout",
          "text": [
            "45\n"
          ]
        }
      ]
    },
    {
      "cell_type": "code",
      "source": [
        "# 디폴트 매개변수\n",
        "def greet(message='안녕하세요'):\n",
        "  print(message)\n",
        "\n",
        "greet()"
      ],
      "metadata": {
        "colab": {
          "base_uri": "https://localhost:8080/"
        },
        "id": "GWaYIH7zvMC_",
        "outputId": "0d4e2dcb-73de-470e-b197-49584a8fbb92"
      },
      "execution_count": 100,
      "outputs": [
        {
          "output_type": "stream",
          "name": "stdout",
          "text": [
            "안녕하세요\n"
          ]
        }
      ]
    },
    {
      "cell_type": "code",
      "source": [
        "greet('방가방가')\n"
      ],
      "metadata": {
        "colab": {
          "base_uri": "https://localhost:8080/"
        },
        "id": "yI8m4ffavMU_",
        "outputId": "f7de564b-b5ca-457f-d5f9-e1d9dabf4c5d"
      },
      "execution_count": 101,
      "outputs": [
        {
          "output_type": "stream",
          "name": "stdout",
          "text": [
            "방가방가\n"
          ]
        }
      ]
    }
  ]
}