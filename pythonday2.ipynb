{
  "nbformat": 4,
  "nbformat_minor": 0,
  "metadata": {
    "colab": {
      "name": "pythonday2.ipynb",
      "provenance": [],
      "authorship_tag": "ABX9TyOp4kyUXX0/idehGqhE/bX1",
      "include_colab_link": true
    },
    "kernelspec": {
      "name": "python3",
      "display_name": "Python 3"
    },
    "language_info": {
      "name": "python"
    }
  },
  "cells": [
    {
      "cell_type": "markdown",
      "metadata": {
        "id": "view-in-github",
        "colab_type": "text"
      },
      "source": [
        "<a href=\"https://colab.research.google.com/github/murur/pythonbasic-1month-/blob/main/pythonday2.ipynb\" target=\"_parent\"><img src=\"https://colab.research.google.com/assets/colab-badge.svg\" alt=\"Open In Colab\"/></a>"
      ]
    },
    {
      "cell_type": "code",
      "execution_count": 3,
      "metadata": {
        "colab": {
          "base_uri": "https://localhost:8080/"
        },
        "id": "222YCYkwsCfD",
        "outputId": "67b5258c-f8c5-4825-c89e-35d107cb2fed"
      },
      "outputs": [
        {
          "output_type": "stream",
          "name": "stdout",
          "text": [
            "[1, 2, 3, 4]\n",
            "[2, 3, 14, 'hello']\n"
          ]
        }
      ],
      "source": [
        "# 39p 컬렉션\n",
        "\n",
        "# 모음 - 여러값을 하나의 이름으로 묶어서 관리하는 자료형\n",
        "\n",
        "# 리스트    []* 추가/수정/삭제 가능 mutable       인덱싱/슬라이싱 가능\n",
        "# 튜플      ()* 추가/수정/삭제 불가능 immutable   인덱싱/슬라이싱 가능\n",
        "# 딕셔너리  {}* 추가/수정/삭제 가능 mutable       인덱싱/슬라이싱 불가능, 순서가 없다.\n",
        "# 셋        {}* 추가/수정/삭제 가능 mutable       인덱싱/슬라이싱 불가능, 순서가 없다.\n",
        "\n",
        "# 리스트 - 가장많이 사용하는 자료형이다. 자료형이 다른 데이터들도 함께 저장할수 있다.\n",
        "li1 = [1,2,3,4]\n",
        "print(li1)\n",
        "li2 = [2,3.14,'hello']\n",
        "print(li2)"
      ]
    },
    {
      "cell_type": "code",
      "source": [
        "a = \"hello\"\n",
        "a[2]"
      ],
      "metadata": {
        "colab": {
          "base_uri": "https://localhost:8080/",
          "height": 35
        },
        "id": "iiGSniOftZ3n",
        "outputId": "f9cb9dd4-9867-4911-bd87-7905c8a67058"
      },
      "execution_count": 8,
      "outputs": [
        {
          "output_type": "execute_result",
          "data": {
            "text/plain": [
              "'l'"
            ],
            "application/vnd.google.colaboratory.intrinsic+json": {
              "type": "string"
            }
          },
          "metadata": {},
          "execution_count": 8
        }
      ]
    },
    {
      "cell_type": "code",
      "source": [
        "li = [2,3.14,\"hello\"]\n",
        "li[2]"
      ],
      "metadata": {
        "colab": {
          "base_uri": "https://localhost:8080/",
          "height": 35
        },
        "id": "fiBsbDpatxCQ",
        "outputId": "61c77309-7f1e-4e69-c31f-0bb4500d9fa0"
      },
      "execution_count": 7,
      "outputs": [
        {
          "output_type": "execute_result",
          "data": {
            "text/plain": [
              "'hello'"
            ],
            "application/vnd.google.colaboratory.intrinsic+json": {
              "type": "string"
            }
          },
          "metadata": {},
          "execution_count": 7
        }
      ]
    },
    {
      "cell_type": "code",
      "source": [
        "# (start, stop, step)\n",
        "li = [2, 3.14, \"hello\"]\n",
        "li[0:2]"
      ],
      "metadata": {
        "colab": {
          "base_uri": "https://localhost:8080/"
        },
        "id": "alkjFWHQt45y",
        "outputId": "5969e189-f380-489f-9b5f-faecc889b809"
      },
      "execution_count": 10,
      "outputs": [
        {
          "output_type": "execute_result",
          "data": {
            "text/plain": [
              "[2, 3.14]"
            ]
          },
          "metadata": {},
          "execution_count": 10
        }
      ]
    },
    {
      "cell_type": "code",
      "source": [
        "scores = [50,40,30]\n",
        "\n",
        "scores.append(80)  #append는 끝에서 하나씩\n",
        "scores\n",
        "\n",
        "scores.insert(0,100)"
      ],
      "metadata": {
        "id": "QeiYf2W0uvkN"
      },
      "execution_count": 117,
      "outputs": []
    },
    {
      "cell_type": "code",
      "source": [
        "scores"
      ],
      "metadata": {
        "colab": {
          "base_uri": "https://localhost:8080/"
        },
        "id": "rlf_Tsvmy6Sv",
        "outputId": "ee7c0579-6742-453d-8403-7bfad4850d7b"
      },
      "execution_count": 45,
      "outputs": [
        {
          "output_type": "execute_result",
          "data": {
            "text/plain": [
              "[100, 50, 40, 30, 80]"
            ]
          },
          "metadata": {},
          "execution_count": 45
        }
      ]
    },
    {
      "cell_type": "code",
      "source": [
        "scores.pop() # pop은 끝에서부터 하나씩 제거"
      ],
      "metadata": {
        "colab": {
          "base_uri": "https://localhost:8080/"
        },
        "id": "-rmK73aGv5Cn",
        "outputId": "ccd65ac7-4f80-4d4c-a04d-5e6b2c4fee4c"
      },
      "execution_count": 48,
      "outputs": [
        {
          "output_type": "execute_result",
          "data": {
            "text/plain": [
              "80"
            ]
          },
          "metadata": {},
          "execution_count": 48
        }
      ]
    },
    {
      "cell_type": "code",
      "source": [
        "scores.pop(0)"
      ],
      "metadata": {
        "colab": {
          "base_uri": "https://localhost:8080/"
        },
        "id": "x0dgUA01wCtA",
        "outputId": "8203f044-cfb9-49b9-a4ce-6a718b1e8231"
      },
      "execution_count": 49,
      "outputs": [
        {
          "output_type": "execute_result",
          "data": {
            "text/plain": [
              "100"
            ]
          },
          "metadata": {},
          "execution_count": 49
        }
      ]
    },
    {
      "cell_type": "code",
      "source": [
        "print(type(scores))"
      ],
      "metadata": {
        "colab": {
          "base_uri": "https://localhost:8080/"
        },
        "id": "25v7Y-ZgwFbG",
        "outputId": "bf1867bf-859a-464f-b69c-aeebd0fb326b"
      },
      "execution_count": 50,
      "outputs": [
        {
          "output_type": "stream",
          "name": "stdout",
          "text": [
            "<class 'list'>\n"
          ]
        }
      ]
    },
    {
      "cell_type": "code",
      "source": [
        "# 2. 튜플 - 한마디로 표현하면 수정할수 없는 리스트\n",
        "\n",
        "tu1 = (1,2,3)\n",
        "print(tu1)\n",
        "print(type(tu1))\n",
        "\n",
        "tu2 = 2,3,4\n",
        "print(tu2)\n",
        "print(type(tu2))\n",
        "\n",
        "tu3 = 2,3,4, '문자'\n",
        "print(tu3)\n",
        "print(type(tu3))\n"
      ],
      "metadata": {
        "colab": {
          "base_uri": "https://localhost:8080/"
        },
        "id": "Th-lcgupxqL8",
        "outputId": "762e6695-8165-416b-aa8e-dbb504bad6c3"
      },
      "execution_count": 51,
      "outputs": [
        {
          "output_type": "stream",
          "name": "stdout",
          "text": [
            "(1, 2, 3)\n",
            "<class 'tuple'>\n",
            "(2, 3, 4)\n",
            "<class 'tuple'>\n",
            "(2, 3, 4, '문자')\n",
            "<class 'tuple'>\n"
          ]
        }
      ]
    },
    {
      "cell_type": "code",
      "source": [
        "tu=10,20,30,40,50\n",
        "tu[0:3]"
      ],
      "metadata": {
        "colab": {
          "base_uri": "https://localhost:8080/"
        },
        "id": "1XaKP-rT5J8_",
        "outputId": "20dcae4c-9b62-44c8-a6e0-c93fa78b8654"
      },
      "execution_count": 53,
      "outputs": [
        {
          "output_type": "execute_result",
          "data": {
            "text/plain": [
              "(10, 20, 30)"
            ]
          },
          "metadata": {},
          "execution_count": 53
        }
      ]
    },
    {
      "cell_type": "code",
      "source": [
        "set = {1,2,3,4,5,6}\n",
        "print(type(set))\n",
        "print(set)"
      ],
      "metadata": {
        "colab": {
          "base_uri": "https://localhost:8080/"
        },
        "id": "vJDeGinA5QLW",
        "outputId": "0cab752f-d335-4971-9975-3e5e0897d57c"
      },
      "execution_count": 55,
      "outputs": [
        {
          "output_type": "stream",
          "name": "stdout",
          "text": [
            "<class 'set'>\n",
            "{1, 2, 3, 4, 5, 6}\n"
          ]
        }
      ]
    },
    {
      "cell_type": "code",
      "source": [
        "set = {1,2,2,3,3,3} #중복불가\n",
        "print(type(set))\n",
        "print(set)"
      ],
      "metadata": {
        "colab": {
          "base_uri": "https://localhost:8080/"
        },
        "id": "8fowQKqz5jY6",
        "outputId": "dded5015-c0df-494d-c933-6f5a87bfd08f"
      },
      "execution_count": 81,
      "outputs": [
        {
          "output_type": "stream",
          "name": "stdout",
          "text": [
            "<class 'set'>\n",
            "{1, 2, 3}\n"
          ]
        }
      ]
    },
    {
      "cell_type": "code",
      "source": [
        "set.add(4)\n",
        "set"
      ],
      "metadata": {
        "colab": {
          "base_uri": "https://localhost:8080/"
        },
        "id": "8qq6jiPK5oUz",
        "outputId": "451c5322-131a-4474-d91e-79c394992ee8"
      },
      "execution_count": 82,
      "outputs": [
        {
          "output_type": "execute_result",
          "data": {
            "text/plain": [
              "{1, 2, 3, 4}"
            ]
          },
          "metadata": {},
          "execution_count": 82
        }
      ]
    },
    {
      "cell_type": "code",
      "source": [
        "set.remove(3)"
      ],
      "metadata": {
        "id": "P9La7N1l708L"
      },
      "execution_count": 83,
      "outputs": []
    },
    {
      "cell_type": "code",
      "source": [
        "set"
      ],
      "metadata": {
        "colab": {
          "base_uri": "https://localhost:8080/"
        },
        "id": "6P1vl7Sb6gJS",
        "outputId": "64cf6e7c-37c1-4292-d5ce-348502e80405"
      },
      "execution_count": 84,
      "outputs": [
        {
          "output_type": "execute_result",
          "data": {
            "text/plain": [
              "{1, 2, 4}"
            ]
          },
          "metadata": {},
          "execution_count": 84
        }
      ]
    },
    {
      "cell_type": "code",
      "source": [
        "# 딕셔너리 : 키와 밸류 한쌍으로 구성된 자료형이다.\n",
        "# 순서가 따로 없다.\n",
        "\n",
        "dict = {'a':'apple', 'b':'banana'}\n",
        "\n",
        "print(dict)\n",
        "print(type(dict))"
      ],
      "metadata": {
        "colab": {
          "base_uri": "https://localhost:8080/"
        },
        "id": "NlSRMoGB6VbL",
        "outputId": "b87ae89a-b806-4380-ddca-baa7fff9b478"
      },
      "execution_count": 87,
      "outputs": [
        {
          "output_type": "stream",
          "name": "stdout",
          "text": [
            "{'a': 'apple', 'b': 'banana'}\n",
            "<class 'dict'>\n"
          ]
        }
      ]
    },
    {
      "cell_type": "code",
      "source": [
        "dict['w']='watermelon'\n",
        "print(dict)\n",
        "print(type(dict))"
      ],
      "metadata": {
        "colab": {
          "base_uri": "https://localhost:8080/"
        },
        "id": "EH7oCs697SAS",
        "outputId": "3468b84a-cbf9-467e-8cde-7a7b1729633d"
      },
      "execution_count": 88,
      "outputs": [
        {
          "output_type": "stream",
          "name": "stdout",
          "text": [
            "{'a': 'apple', 'b': 'banana', 'w': 'watermelon'}\n",
            "<class 'dict'>\n"
          ]
        }
      ]
    },
    {
      "cell_type": "code",
      "source": [
        "dict.pop('a')\n",
        "print(dict)\n",
        "print(type(dict))"
      ],
      "metadata": {
        "colab": {
          "base_uri": "https://localhost:8080/"
        },
        "id": "kwByd6Hd7eEB",
        "outputId": "e9f5cf34-029e-45c1-810a-8680886401f3"
      },
      "execution_count": 89,
      "outputs": [
        {
          "output_type": "stream",
          "name": "stdout",
          "text": [
            "{'b': 'banana', 'w': 'watermelon'}\n",
            "<class 'dict'>\n"
          ]
        }
      ]
    },
    {
      "cell_type": "code",
      "source": [
        "me=[1,2,3] # 리스트\n",
        "id(me)\n"
      ],
      "metadata": {
        "colab": {
          "base_uri": "https://localhost:8080/"
        },
        "id": "xygzsArK8_iI",
        "outputId": "1f549f25-db3e-41c3-8b01-a3c021179d9a"
      },
      "execution_count": 91,
      "outputs": [
        {
          "output_type": "execute_result",
          "data": {
            "text/plain": [
              "140367048289728"
            ]
          },
          "metadata": {},
          "execution_count": 91
        }
      ]
    },
    {
      "cell_type": "code",
      "source": [
        "me.append(4)\n",
        "print(id(me))\n",
        "print(me)"
      ],
      "metadata": {
        "colab": {
          "base_uri": "https://localhost:8080/"
        },
        "id": "TlqpaFSv9EZY",
        "outputId": "792ddae2-c0cb-4002-c8b4-b00dbe96d8b0"
      },
      "execution_count": 93,
      "outputs": [
        {
          "output_type": "stream",
          "name": "stdout",
          "text": [
            "140367048289728\n",
            "[1, 2, 3, 4, 4]\n"
          ]
        }
      ]
    },
    {
      "cell_type": "code",
      "source": [
        "me = 10 # 정수\n",
        "print(id(me))"
      ],
      "metadata": {
        "colab": {
          "base_uri": "https://localhost:8080/"
        },
        "id": "PPYmfFyM9Rke",
        "outputId": "423f0a23-750b-4019-912f-b61b969de86d"
      },
      "execution_count": 95,
      "outputs": [
        {
          "output_type": "stream",
          "name": "stdout",
          "text": [
            "94088149433120\n"
          ]
        }
      ]
    },
    {
      "cell_type": "code",
      "source": [
        "me += 1\n",
        "print(id(me))"
      ],
      "metadata": {
        "colab": {
          "base_uri": "https://localhost:8080/"
        },
        "id": "NoImHU5i9oBF",
        "outputId": "1c034efe-d643-47ad-f451-54b0aacff8aa"
      },
      "execution_count": 97,
      "outputs": [
        {
          "output_type": "stream",
          "name": "stdout",
          "text": [
            "94088149433184\n"
          ]
        }
      ]
    },
    {
      "cell_type": "code",
      "source": [
        "me = [1,2,3]\n",
        "\n",
        "you = me\n",
        "\n",
        "print(id(me))\n",
        "print(id(you))"
      ],
      "metadata": {
        "colab": {
          "base_uri": "https://localhost:8080/"
        },
        "id": "N3KTxb-N-JpH",
        "outputId": "7695eb8b-da5f-4267-90ab-d08e6914c477"
      },
      "execution_count": 99,
      "outputs": [
        {
          "output_type": "stream",
          "name": "stdout",
          "text": [
            "140367048286032\n",
            "140367048286032\n"
          ]
        }
      ]
    },
    {
      "cell_type": "code",
      "source": [
        "you.append(4)\n",
        "\n",
        "print(id(me))\n",
        "print(id(you))\n",
        "print(me)\n",
        "print(you)"
      ],
      "metadata": {
        "colab": {
          "base_uri": "https://localhost:8080/"
        },
        "id": "RB2QZPDH-XO1",
        "outputId": "d10a7106-bb4e-4a18-e437-52d8d02dbe64"
      },
      "execution_count": 101,
      "outputs": [
        {
          "output_type": "stream",
          "name": "stdout",
          "text": [
            "140367048286032\n",
            "140367048286032\n",
            "[1, 2, 3, 4, 4]\n",
            "[1, 2, 3, 4, 4]\n"
          ]
        }
      ]
    },
    {
      "cell_type": "code",
      "source": [
        "no1 = '서울2가1234'\n",
        "no1[-4:]\n",
        "print(no1,'의 차량번호 4 자리는',no1[-4:],'입니다')"
      ],
      "metadata": {
        "colab": {
          "base_uri": "https://localhost:8080/"
        },
        "id": "xgSYxIhf_F3p",
        "outputId": "23d5faab-1750-4c7f-ec56-2e32797e1a97"
      },
      "execution_count": 114,
      "outputs": [
        {
          "output_type": "stream",
          "name": "stdout",
          "text": [
            "서울2가1234 의 차량번호 4 자리는 1234 입니다\n"
          ]
        }
      ]
    },
    {
      "cell_type": "code",
      "source": [
        "s = 'maple'\n",
        "print(s,'의 가운데 글자는',s[2],'입니다')"
      ],
      "metadata": {
        "colab": {
          "base_uri": "https://localhost:8080/"
        },
        "id": "GttbYc6CABIz",
        "outputId": "b890a61e-40da-4331-d464-825ae2539445"
      },
      "execution_count": 116,
      "outputs": [
        {
          "output_type": "stream",
          "name": "stdout",
          "text": [
            "maple 의 가운데 글자는 p 입니다\n"
          ]
        }
      ]
    },
    {
      "cell_type": "code",
      "source": [
        "li = [10,20,30,40,50,60,70,80,90,100]\n",
        "print(\"3번째 요소부터 7번째 요소 =\",li[2:7])\n",
        "print(\"3번째 요소부터 7번째 요소 중 2번째 요소는 =\", li[2:7][1])"
      ],
      "metadata": {
        "colab": {
          "base_uri": "https://localhost:8080/"
        },
        "id": "TW3GeEa5Btex",
        "outputId": "670a8cc6-14fe-48bd-bc4e-321bca8b2082"
      },
      "execution_count": 122,
      "outputs": [
        {
          "output_type": "stream",
          "name": "stdout",
          "text": [
            "3번째 요소부터 7번째 요소 = [30, 40, 50, 60, 70]\n",
            "3번째 요소부터 7번째 요소 중 2번째 요소는 = 40\n"
          ]
        }
      ]
    },
    {
      "cell_type": "code",
      "source": [
        "dict = {'금요일':'탕수육','토요일':'유산슬','일요일':'팔보채'}\n",
        "print('금요일 :',dict['금요일'])\n",
        "print('토요일 :',dict['토요일'])\n",
        "print('일요일 :',dict['일요일'])"
      ],
      "metadata": {
        "colab": {
          "base_uri": "https://localhost:8080/"
        },
        "id": "i2frGLGWDAds",
        "outputId": "545664be-e46a-4822-e7b6-0e46d6c95815"
      },
      "execution_count": 132,
      "outputs": [
        {
          "output_type": "stream",
          "name": "stdout",
          "text": [
            "금요일 : 탕수육\n",
            "토요일 : 유산슬\n",
            "일요일 : 팔보채\n"
          ]
        }
      ]
    },
    {
      "cell_type": "code",
      "source": [
        "print('Hello \\'World\\'')\n",
        "print(\"Hello \\\"World\\\"\")\n",
        "print('*\\n**\\n***')\n",
        "print('이름 \\t 연락처')\n",
        "print('제시카 \\t 02-123-4567')\n",
        "print('마틴 \\t 010-8765-1234')"
      ],
      "metadata": {
        "colab": {
          "base_uri": "https://localhost:8080/"
        },
        "id": "bzf0twqyGjtX",
        "outputId": "b667c729-922a-4ecc-b97f-5da97152ce2f"
      },
      "execution_count": 135,
      "outputs": [
        {
          "output_type": "stream",
          "name": "stdout",
          "text": [
            "Hello 'World'\n",
            "Hello \"World\"\n",
            "*\n",
            "**\n",
            "***\n",
            "이름 \t 연락처\n",
            "제시카 \t 02-123-4567\n",
            "마틴 \t 010-8765-1234\n"
          ]
        }
      ]
    },
    {
      "cell_type": "code",
      "source": [
        "print('재미있는','파이썬', sep=' ')\n",
        "print('Python','Java','C', sep='.')\n",
        "print()\n",
        "print('영화 타이타닉')\n",
        "print('평점', end = ':')\n",
        "print('5점')"
      ],
      "metadata": {
        "colab": {
          "base_uri": "https://localhost:8080/"
        },
        "id": "G_bsp78IJwYM",
        "outputId": "3ed646f7-fd07-4f6b-8b2a-52d515ca2962"
      },
      "execution_count": 138,
      "outputs": [
        {
          "output_type": "stream",
          "name": "stdout",
          "text": [
            "재미있는 파이썬\n",
            "Python.Java.C\n",
            "\n",
            "영화 타이타닉\n",
            "평점:5점\n"
          ]
        }
      ]
    },
    {
      "cell_type": "code",
      "source": [
        "# 인쇄 4가지 방법\n",
        "\n",
        "# 1. 기본출력\n",
        "# 2. %연산자출력\n",
        "# 3. format()매서드\n",
        "# 4. f string (***)\n",
        "\n",
        "# %연산자출력\n",
        "\n",
        "print('%d' % 10)\n",
        "print('%d 원입니다.' % 100)\n",
        "print('%s 원입니다.' % 100)\n",
        "\n",
        "print('원주율은 %f입니다.' % 3.14)\n",
        "print('원주율은 %s입니다.' % 3.14)\n",
        "\n"
      ],
      "metadata": {
        "colab": {
          "base_uri": "https://localhost:8080/"
        },
        "id": "QAIY0Gt5OlZq",
        "outputId": "110382dd-1760-4b50-fda3-77a04a1f78be"
      },
      "execution_count": 139,
      "outputs": [
        {
          "output_type": "stream",
          "name": "stdout",
          "text": [
            "10\n",
            "100 원입니다.\n",
            "100 원입니다.\n",
            "원주율은 3.140000입니다.\n",
            "원주율은 3.14입니다.\n"
          ]
        }
      ]
    },
    {
      "cell_type": "code",
      "source": [
        "\n",
        "print('%5d' % 1)\n",
        "print('%5d' % 12)\n",
        "print('%-5d' % 1)\n",
        "print('%-5d' % 12)"
      ],
      "metadata": {
        "colab": {
          "base_uri": "https://localhost:8080/"
        },
        "id": "HvuaW3uIOm4O",
        "outputId": "17188f34-1cb0-4d59-cfc6-cb74689c8626"
      },
      "execution_count": 140,
      "outputs": [
        {
          "output_type": "stream",
          "name": "stdout",
          "text": [
            "    1\n",
            "   12\n",
            "1    \n",
            "12   \n"
          ]
        }
      ]
    },
    {
      "cell_type": "code",
      "source": [
        "# format()매서드\n",
        "\n",
        "print('My name is {}'.format('James'))"
      ],
      "metadata": {
        "colab": {
          "base_uri": "https://localhost:8080/"
        },
        "id": "vBkMbhr7OoeX",
        "outputId": "dfccfc73-933b-4f3b-949b-de8c8d1f49d3"
      },
      "execution_count": 141,
      "outputs": [
        {
          "output_type": "stream",
          "name": "stdout",
          "text": [
            "My name is James\n"
          ]
        }
      ]
    },
    {
      "cell_type": "code",
      "source": [
        "# 1 기본 출력\n",
        "name='James'\n",
        "age=25\n",
        "print('My name is',name,'i\\'m',age, 'years old')\n",
        "\n",
        "# 2  % 연산자\n",
        "print('My name is %s i\\'m %s years old' % ('james', 25))\n",
        "\n",
        "# 3 format 매서드\n",
        "print('My name is {} I\\'m {} years old'.format('James', 25))\n",
        "\n",
        "# 4 f string\n",
        "\n",
        "print(f'My name is {name} I\\'m {age} years old')"
      ],
      "metadata": {
        "colab": {
          "base_uri": "https://localhost:8080/"
        },
        "id": "FaqnuM2ZOpu9",
        "outputId": "075c7a36-9eb7-4a63-f7fb-1a249dd96a87"
      },
      "execution_count": 147,
      "outputs": [
        {
          "output_type": "stream",
          "name": "stdout",
          "text": [
            "My name is James i'm 25 years old\n",
            "My name is james i'm 25 years old\n",
            "My name is James I'm 25 years old\n",
            "My name is James I'm 25 years old\n"
          ]
        }
      ]
    },
    {
      "cell_type": "code",
      "source": [
        "age=25\n",
        "print(f'My name is {name} I\\'m {age+3} years old')"
      ],
      "metadata": {
        "colab": {
          "base_uri": "https://localhost:8080/"
        },
        "id": "Wob4jY4RQM35",
        "outputId": "7215f901-ab25-4eab-9f17-1886f0f41ac3"
      },
      "execution_count": 148,
      "outputs": [
        {
          "output_type": "stream",
          "name": "stdout",
          "text": [
            "My name is James I'm 28 years old\n"
          ]
        }
      ]
    }
  ]
}